{
 "cells": [
  {
   "cell_type": "code",
   "execution_count": 1,
   "metadata": {},
   "outputs": [],
   "source": [
    "%matplotlib inline\n",
    "import numpy as np\n",
    "import matplotlib.pyplot as plt"
   ]
  },
  {
   "cell_type": "markdown",
   "metadata": {},
   "source": [
    "## 2 Linear regression with one variable"
   ]
  },
  {
   "cell_type": "code",
   "execution_count": 8,
   "metadata": {},
   "outputs": [],
   "source": [
    "datafile='data/ex1data1.txt'\n",
    "cols=np.loadtxt(datafile, delimiter=',', usecols=(0,1),unpack=True)"
   ]
  },
  {
   "cell_type": "code",
   "execution_count": 12,
   "metadata": {},
   "outputs": [],
   "source": [
    "cols2=np.loadtxt(datafile, delimiter=',')"
   ]
  },
  {
   "cell_type": "code",
   "execution_count": 13,
   "metadata": {},
   "outputs": [
    {
     "data": {
      "text/plain": [
       "array([[ 6.1101 ,  5.5277 ,  8.5186 ,  7.0032 ,  5.8598 ,  8.3829 ,\n",
       "         7.4764 ,  8.5781 ,  6.4862 ,  5.0546 ,  5.7107 , 14.164  ,\n",
       "         5.734  ,  8.4084 ,  5.6407 ,  5.3794 ,  6.3654 ,  5.1301 ,\n",
       "         6.4296 ,  7.0708 ,  6.1891 , 20.27   ,  5.4901 ,  6.3261 ,\n",
       "         5.5649 , 18.945  , 12.828  , 10.957  , 13.176  , 22.203  ,\n",
       "         5.2524 ,  6.5894 ,  9.2482 ,  5.8918 ,  8.2111 ,  7.9334 ,\n",
       "         8.0959 ,  5.6063 , 12.836  ,  6.3534 ,  5.4069 ,  6.8825 ,\n",
       "        11.708  ,  5.7737 ,  7.8247 ,  7.0931 ,  5.0702 ,  5.8014 ,\n",
       "        11.7    ,  5.5416 ,  7.5402 ,  5.3077 ,  7.4239 ,  7.6031 ,\n",
       "         6.3328 ,  6.3589 ,  6.2742 ,  5.6397 ,  9.3102 ,  9.4536 ,\n",
       "         8.8254 ,  5.1793 , 21.279  , 14.908  , 18.959  ,  7.2182 ,\n",
       "         8.2951 , 10.236  ,  5.4994 , 20.341  , 10.136  ,  7.3345 ,\n",
       "         6.0062 ,  7.2259 ,  5.0269 ,  6.5479 ,  7.5386 ,  5.0365 ,\n",
       "        10.274  ,  5.1077 ,  5.7292 ,  5.1884 ,  6.3557 ,  9.7687 ,\n",
       "         6.5159 ,  8.5172 ,  9.1802 ,  6.002  ,  5.5204 ,  5.0594 ,\n",
       "         5.7077 ,  7.6366 ,  5.8707 ,  5.3054 ,  8.2934 , 13.394  ,\n",
       "         5.4369 ],\n",
       "       [17.592  ,  9.1302 , 13.662  , 11.854  ,  6.8233 , 11.886  ,\n",
       "         4.3483 , 12.     ,  6.5987 ,  3.8166 ,  3.2522 , 15.505  ,\n",
       "         3.1551 ,  7.2258 ,  0.71618,  3.5129 ,  5.3048 ,  0.56077,\n",
       "         3.6518 ,  5.3893 ,  3.1386 , 21.767  ,  4.263  ,  5.1875 ,\n",
       "         3.0825 , 22.638  , 13.501  ,  7.0467 , 14.692  , 24.147  ,\n",
       "        -1.22   ,  5.9966 , 12.134  ,  1.8495 ,  6.5426 ,  4.5623 ,\n",
       "         4.1164 ,  3.3928 , 10.117  ,  5.4974 ,  0.55657,  3.9115 ,\n",
       "         5.3854 ,  2.4406 ,  6.7318 ,  1.0463 ,  5.1337 ,  1.844  ,\n",
       "         8.0043 ,  1.0179 ,  6.7504 ,  1.8396 ,  4.2885 ,  4.9981 ,\n",
       "         1.4233 , -1.4211 ,  2.4756 ,  4.6042 ,  3.9624 ,  5.4141 ,\n",
       "         5.1694 , -0.74279, 17.929  , 12.054  , 17.054  ,  4.8852 ,\n",
       "         5.7442 ,  7.7754 ,  1.0173 , 20.992  ,  6.6799 ,  4.0259 ,\n",
       "         1.2784 ,  3.3411 , -2.6807 ,  0.29678,  3.8845 ,  5.7014 ,\n",
       "         6.7526 ,  2.0576 ,  0.47953,  0.20421,  0.67861,  7.5435 ,\n",
       "         5.3436 ,  4.2415 ,  6.7981 ,  0.92695,  0.152  ,  2.8214 ,\n",
       "         1.8451 ,  4.2959 ,  7.2029 ,  1.9869 ,  0.14454,  9.0551 ,\n",
       "         0.61705]])"
      ]
     },
     "execution_count": 13,
     "metadata": {},
     "output_type": "execute_result"
    }
   ],
   "source": [
    "cols\n"
   ]
  },
  {
   "cell_type": "code",
   "execution_count": 14,
   "metadata": {},
   "outputs": [
    {
     "data": {
      "text/plain": [
       "array([[ 6.1101 , 17.592  ],\n",
       "       [ 5.5277 ,  9.1302 ],\n",
       "       [ 8.5186 , 13.662  ],\n",
       "       [ 7.0032 , 11.854  ],\n",
       "       [ 5.8598 ,  6.8233 ],\n",
       "       [ 8.3829 , 11.886  ],\n",
       "       [ 7.4764 ,  4.3483 ],\n",
       "       [ 8.5781 , 12.     ],\n",
       "       [ 6.4862 ,  6.5987 ],\n",
       "       [ 5.0546 ,  3.8166 ],\n",
       "       [ 5.7107 ,  3.2522 ],\n",
       "       [14.164  , 15.505  ],\n",
       "       [ 5.734  ,  3.1551 ],\n",
       "       [ 8.4084 ,  7.2258 ],\n",
       "       [ 5.6407 ,  0.71618],\n",
       "       [ 5.3794 ,  3.5129 ],\n",
       "       [ 6.3654 ,  5.3048 ],\n",
       "       [ 5.1301 ,  0.56077],\n",
       "       [ 6.4296 ,  3.6518 ],\n",
       "       [ 7.0708 ,  5.3893 ],\n",
       "       [ 6.1891 ,  3.1386 ],\n",
       "       [20.27   , 21.767  ],\n",
       "       [ 5.4901 ,  4.263  ],\n",
       "       [ 6.3261 ,  5.1875 ],\n",
       "       [ 5.5649 ,  3.0825 ],\n",
       "       [18.945  , 22.638  ],\n",
       "       [12.828  , 13.501  ],\n",
       "       [10.957  ,  7.0467 ],\n",
       "       [13.176  , 14.692  ],\n",
       "       [22.203  , 24.147  ],\n",
       "       [ 5.2524 , -1.22   ],\n",
       "       [ 6.5894 ,  5.9966 ],\n",
       "       [ 9.2482 , 12.134  ],\n",
       "       [ 5.8918 ,  1.8495 ],\n",
       "       [ 8.2111 ,  6.5426 ],\n",
       "       [ 7.9334 ,  4.5623 ],\n",
       "       [ 8.0959 ,  4.1164 ],\n",
       "       [ 5.6063 ,  3.3928 ],\n",
       "       [12.836  , 10.117  ],\n",
       "       [ 6.3534 ,  5.4974 ],\n",
       "       [ 5.4069 ,  0.55657],\n",
       "       [ 6.8825 ,  3.9115 ],\n",
       "       [11.708  ,  5.3854 ],\n",
       "       [ 5.7737 ,  2.4406 ],\n",
       "       [ 7.8247 ,  6.7318 ],\n",
       "       [ 7.0931 ,  1.0463 ],\n",
       "       [ 5.0702 ,  5.1337 ],\n",
       "       [ 5.8014 ,  1.844  ],\n",
       "       [11.7    ,  8.0043 ],\n",
       "       [ 5.5416 ,  1.0179 ],\n",
       "       [ 7.5402 ,  6.7504 ],\n",
       "       [ 5.3077 ,  1.8396 ],\n",
       "       [ 7.4239 ,  4.2885 ],\n",
       "       [ 7.6031 ,  4.9981 ],\n",
       "       [ 6.3328 ,  1.4233 ],\n",
       "       [ 6.3589 , -1.4211 ],\n",
       "       [ 6.2742 ,  2.4756 ],\n",
       "       [ 5.6397 ,  4.6042 ],\n",
       "       [ 9.3102 ,  3.9624 ],\n",
       "       [ 9.4536 ,  5.4141 ],\n",
       "       [ 8.8254 ,  5.1694 ],\n",
       "       [ 5.1793 , -0.74279],\n",
       "       [21.279  , 17.929  ],\n",
       "       [14.908  , 12.054  ],\n",
       "       [18.959  , 17.054  ],\n",
       "       [ 7.2182 ,  4.8852 ],\n",
       "       [ 8.2951 ,  5.7442 ],\n",
       "       [10.236  ,  7.7754 ],\n",
       "       [ 5.4994 ,  1.0173 ],\n",
       "       [20.341  , 20.992  ],\n",
       "       [10.136  ,  6.6799 ],\n",
       "       [ 7.3345 ,  4.0259 ],\n",
       "       [ 6.0062 ,  1.2784 ],\n",
       "       [ 7.2259 ,  3.3411 ],\n",
       "       [ 5.0269 , -2.6807 ],\n",
       "       [ 6.5479 ,  0.29678],\n",
       "       [ 7.5386 ,  3.8845 ],\n",
       "       [ 5.0365 ,  5.7014 ],\n",
       "       [10.274  ,  6.7526 ],\n",
       "       [ 5.1077 ,  2.0576 ],\n",
       "       [ 5.7292 ,  0.47953],\n",
       "       [ 5.1884 ,  0.20421],\n",
       "       [ 6.3557 ,  0.67861],\n",
       "       [ 9.7687 ,  7.5435 ],\n",
       "       [ 6.5159 ,  5.3436 ],\n",
       "       [ 8.5172 ,  4.2415 ],\n",
       "       [ 9.1802 ,  6.7981 ],\n",
       "       [ 6.002  ,  0.92695],\n",
       "       [ 5.5204 ,  0.152  ],\n",
       "       [ 5.0594 ,  2.8214 ],\n",
       "       [ 5.7077 ,  1.8451 ],\n",
       "       [ 7.6366 ,  4.2959 ],\n",
       "       [ 5.8707 ,  7.2029 ],\n",
       "       [ 5.3054 ,  1.9869 ],\n",
       "       [ 8.2934 ,  0.14454],\n",
       "       [13.394  ,  9.0551 ],\n",
       "       [ 5.4369 ,  0.61705]])"
      ]
     },
     "execution_count": 14,
     "metadata": {},
     "output_type": "execute_result"
    }
   ],
   "source": [
    "cols2"
   ]
  },
  {
   "cell_type": "code",
   "execution_count": 27,
   "metadata": {},
   "outputs": [
    {
     "data": {
      "text/plain": [
       "array([[17.592  ],\n",
       "       [ 9.1302 ],\n",
       "       [13.662  ],\n",
       "       [11.854  ],\n",
       "       [ 6.8233 ],\n",
       "       [11.886  ],\n",
       "       [ 4.3483 ],\n",
       "       [12.     ],\n",
       "       [ 6.5987 ],\n",
       "       [ 3.8166 ],\n",
       "       [ 3.2522 ],\n",
       "       [15.505  ],\n",
       "       [ 3.1551 ],\n",
       "       [ 7.2258 ],\n",
       "       [ 0.71618],\n",
       "       [ 3.5129 ],\n",
       "       [ 5.3048 ],\n",
       "       [ 0.56077],\n",
       "       [ 3.6518 ],\n",
       "       [ 5.3893 ],\n",
       "       [ 3.1386 ],\n",
       "       [21.767  ],\n",
       "       [ 4.263  ],\n",
       "       [ 5.1875 ],\n",
       "       [ 3.0825 ],\n",
       "       [22.638  ],\n",
       "       [13.501  ],\n",
       "       [ 7.0467 ],\n",
       "       [14.692  ],\n",
       "       [24.147  ],\n",
       "       [-1.22   ],\n",
       "       [ 5.9966 ],\n",
       "       [12.134  ],\n",
       "       [ 1.8495 ],\n",
       "       [ 6.5426 ],\n",
       "       [ 4.5623 ],\n",
       "       [ 4.1164 ],\n",
       "       [ 3.3928 ],\n",
       "       [10.117  ],\n",
       "       [ 5.4974 ],\n",
       "       [ 0.55657],\n",
       "       [ 3.9115 ],\n",
       "       [ 5.3854 ],\n",
       "       [ 2.4406 ],\n",
       "       [ 6.7318 ],\n",
       "       [ 1.0463 ],\n",
       "       [ 5.1337 ],\n",
       "       [ 1.844  ],\n",
       "       [ 8.0043 ],\n",
       "       [ 1.0179 ],\n",
       "       [ 6.7504 ],\n",
       "       [ 1.8396 ],\n",
       "       [ 4.2885 ],\n",
       "       [ 4.9981 ],\n",
       "       [ 1.4233 ],\n",
       "       [-1.4211 ],\n",
       "       [ 2.4756 ],\n",
       "       [ 4.6042 ],\n",
       "       [ 3.9624 ],\n",
       "       [ 5.4141 ],\n",
       "       [ 5.1694 ],\n",
       "       [-0.74279],\n",
       "       [17.929  ],\n",
       "       [12.054  ],\n",
       "       [17.054  ],\n",
       "       [ 4.8852 ],\n",
       "       [ 5.7442 ],\n",
       "       [ 7.7754 ],\n",
       "       [ 1.0173 ],\n",
       "       [20.992  ],\n",
       "       [ 6.6799 ],\n",
       "       [ 4.0259 ],\n",
       "       [ 1.2784 ],\n",
       "       [ 3.3411 ],\n",
       "       [-2.6807 ],\n",
       "       [ 0.29678],\n",
       "       [ 3.8845 ],\n",
       "       [ 5.7014 ],\n",
       "       [ 6.7526 ],\n",
       "       [ 2.0576 ],\n",
       "       [ 0.47953],\n",
       "       [ 0.20421],\n",
       "       [ 0.67861],\n",
       "       [ 7.5435 ],\n",
       "       [ 5.3436 ],\n",
       "       [ 4.2415 ],\n",
       "       [ 6.7981 ],\n",
       "       [ 0.92695],\n",
       "       [ 0.152  ],\n",
       "       [ 2.8214 ],\n",
       "       [ 1.8451 ],\n",
       "       [ 4.2959 ],\n",
       "       [ 7.2029 ],\n",
       "       [ 1.9869 ],\n",
       "       [ 0.14454],\n",
       "       [ 9.0551 ],\n",
       "       [ 0.61705]])"
      ]
     },
     "execution_count": 27,
     "metadata": {},
     "output_type": "execute_result"
    }
   ],
   "source": [
    "X=np.transpose(np.array(cols[:-1]))\n",
    "X\n",
    "Y=np.transpose(np.array(cols[-1:]))\n",
    "Y"
   ]
  },
  {
   "cell_type": "code",
   "execution_count": 24,
   "metadata": {},
   "outputs": [],
   "source": [
    "X2=np.array(cols2[:,0])"
   ]
  },
  {
   "cell_type": "code",
   "execution_count": 26,
   "metadata": {},
   "outputs": [
    {
     "data": {
      "text/plain": [
       "array([[ True,  True,  True,  True,  True,  True,  True,  True,  True,\n",
       "         True,  True,  True,  True,  True,  True,  True,  True,  True,\n",
       "         True,  True,  True,  True,  True,  True,  True,  True,  True,\n",
       "         True,  True,  True,  True,  True,  True,  True,  True,  True,\n",
       "         True,  True,  True,  True,  True,  True,  True,  True,  True,\n",
       "         True,  True,  True,  True,  True,  True,  True,  True,  True,\n",
       "         True,  True,  True,  True,  True,  True,  True,  True,  True,\n",
       "         True,  True,  True,  True,  True,  True,  True,  True,  True,\n",
       "         True,  True,  True,  True,  True,  True,  True,  True,  True,\n",
       "         True,  True,  True,  True,  True,  True,  True,  True,  True,\n",
       "         True,  True,  True,  True,  True,  True,  True]])"
      ]
     },
     "execution_count": 26,
     "metadata": {},
     "output_type": "execute_result"
    }
   ],
   "source": [
    "X2==np.transpose(X)"
   ]
  },
  {
   "cell_type": "code",
   "execution_count": 29,
   "metadata": {},
   "outputs": [
    {
     "data": {
      "text/plain": [
       "97"
      ]
     },
     "execution_count": 29,
     "metadata": {},
     "output_type": "execute_result"
    }
   ],
   "source": [
    "m=Y.size\n",
    "m"
   ]
  },
  {
   "cell_type": "code",
   "execution_count": 30,
   "metadata": {},
   "outputs": [
    {
     "data": {
      "text/plain": [
       "97"
      ]
     },
     "execution_count": 30,
     "metadata": {},
     "output_type": "execute_result"
    }
   ],
   "source": [
    "mx=X.size\n",
    "mx"
   ]
  },
  {
   "cell_type": "code",
   "execution_count": 34,
   "metadata": {},
   "outputs": [
    {
     "name": "stdout",
     "output_type": "stream",
     "text": [
      "[[ 6.1101]\n",
      " [ 5.5277]\n",
      " [ 8.5186]\n",
      " [ 7.0032]\n",
      " [ 5.8598]\n",
      " [ 8.3829]\n",
      " [ 7.4764]\n",
      " [ 8.5781]\n",
      " [ 6.4862]\n",
      " [ 5.0546]\n",
      " [ 5.7107]\n",
      " [14.164 ]\n",
      " [ 5.734 ]\n",
      " [ 8.4084]\n",
      " [ 5.6407]\n",
      " [ 5.3794]\n",
      " [ 6.3654]\n",
      " [ 5.1301]\n",
      " [ 6.4296]\n",
      " [ 7.0708]\n",
      " [ 6.1891]\n",
      " [20.27  ]\n",
      " [ 5.4901]\n",
      " [ 6.3261]\n",
      " [ 5.5649]\n",
      " [18.945 ]\n",
      " [12.828 ]\n",
      " [10.957 ]\n",
      " [13.176 ]\n",
      " [22.203 ]\n",
      " [ 5.2524]\n",
      " [ 6.5894]\n",
      " [ 9.2482]\n",
      " [ 5.8918]\n",
      " [ 8.2111]\n",
      " [ 7.9334]\n",
      " [ 8.0959]\n",
      " [ 5.6063]\n",
      " [12.836 ]\n",
      " [ 6.3534]\n",
      " [ 5.4069]\n",
      " [ 6.8825]\n",
      " [11.708 ]\n",
      " [ 5.7737]\n",
      " [ 7.8247]\n",
      " [ 7.0931]\n",
      " [ 5.0702]\n",
      " [ 5.8014]\n",
      " [11.7   ]\n",
      " [ 5.5416]\n",
      " [ 7.5402]\n",
      " [ 5.3077]\n",
      " [ 7.4239]\n",
      " [ 7.6031]\n",
      " [ 6.3328]\n",
      " [ 6.3589]\n",
      " [ 6.2742]\n",
      " [ 5.6397]\n",
      " [ 9.3102]\n",
      " [ 9.4536]\n",
      " [ 8.8254]\n",
      " [ 5.1793]\n",
      " [21.279 ]\n",
      " [14.908 ]\n",
      " [18.959 ]\n",
      " [ 7.2182]\n",
      " [ 8.2951]\n",
      " [10.236 ]\n",
      " [ 5.4994]\n",
      " [20.341 ]\n",
      " [10.136 ]\n",
      " [ 7.3345]\n",
      " [ 6.0062]\n",
      " [ 7.2259]\n",
      " [ 5.0269]\n",
      " [ 6.5479]\n",
      " [ 7.5386]\n",
      " [ 5.0365]\n",
      " [10.274 ]\n",
      " [ 5.1077]\n",
      " [ 5.7292]\n",
      " [ 5.1884]\n",
      " [ 6.3557]\n",
      " [ 9.7687]\n",
      " [ 6.5159]\n",
      " [ 8.5172]\n",
      " [ 9.1802]\n",
      " [ 6.002 ]\n",
      " [ 5.5204]\n",
      " [ 5.0594]\n",
      " [ 5.7077]\n",
      " [ 7.6366]\n",
      " [ 5.8707]\n",
      " [ 5.3054]\n",
      " [ 8.2934]\n",
      " [13.394 ]\n",
      " [ 5.4369]]\n",
      "[[ 1.      6.1101]\n",
      " [ 1.      5.5277]\n",
      " [ 1.      8.5186]\n",
      " [ 1.      7.0032]\n",
      " [ 1.      5.8598]\n",
      " [ 1.      8.3829]\n",
      " [ 1.      7.4764]\n",
      " [ 1.      8.5781]\n",
      " [ 1.      6.4862]\n",
      " [ 1.      5.0546]\n",
      " [ 1.      5.7107]\n",
      " [ 1.     14.164 ]\n",
      " [ 1.      5.734 ]\n",
      " [ 1.      8.4084]\n",
      " [ 1.      5.6407]\n",
      " [ 1.      5.3794]\n",
      " [ 1.      6.3654]\n",
      " [ 1.      5.1301]\n",
      " [ 1.      6.4296]\n",
      " [ 1.      7.0708]\n",
      " [ 1.      6.1891]\n",
      " [ 1.     20.27  ]\n",
      " [ 1.      5.4901]\n",
      " [ 1.      6.3261]\n",
      " [ 1.      5.5649]\n",
      " [ 1.     18.945 ]\n",
      " [ 1.     12.828 ]\n",
      " [ 1.     10.957 ]\n",
      " [ 1.     13.176 ]\n",
      " [ 1.     22.203 ]\n",
      " [ 1.      5.2524]\n",
      " [ 1.      6.5894]\n",
      " [ 1.      9.2482]\n",
      " [ 1.      5.8918]\n",
      " [ 1.      8.2111]\n",
      " [ 1.      7.9334]\n",
      " [ 1.      8.0959]\n",
      " [ 1.      5.6063]\n",
      " [ 1.     12.836 ]\n",
      " [ 1.      6.3534]\n",
      " [ 1.      5.4069]\n",
      " [ 1.      6.8825]\n",
      " [ 1.     11.708 ]\n",
      " [ 1.      5.7737]\n",
      " [ 1.      7.8247]\n",
      " [ 1.      7.0931]\n",
      " [ 1.      5.0702]\n",
      " [ 1.      5.8014]\n",
      " [ 1.     11.7   ]\n",
      " [ 1.      5.5416]\n",
      " [ 1.      7.5402]\n",
      " [ 1.      5.3077]\n",
      " [ 1.      7.4239]\n",
      " [ 1.      7.6031]\n",
      " [ 1.      6.3328]\n",
      " [ 1.      6.3589]\n",
      " [ 1.      6.2742]\n",
      " [ 1.      5.6397]\n",
      " [ 1.      9.3102]\n",
      " [ 1.      9.4536]\n",
      " [ 1.      8.8254]\n",
      " [ 1.      5.1793]\n",
      " [ 1.     21.279 ]\n",
      " [ 1.     14.908 ]\n",
      " [ 1.     18.959 ]\n",
      " [ 1.      7.2182]\n",
      " [ 1.      8.2951]\n",
      " [ 1.     10.236 ]\n",
      " [ 1.      5.4994]\n",
      " [ 1.     20.341 ]\n",
      " [ 1.     10.136 ]\n",
      " [ 1.      7.3345]\n",
      " [ 1.      6.0062]\n",
      " [ 1.      7.2259]\n",
      " [ 1.      5.0269]\n",
      " [ 1.      6.5479]\n",
      " [ 1.      7.5386]\n",
      " [ 1.      5.0365]\n",
      " [ 1.     10.274 ]\n",
      " [ 1.      5.1077]\n",
      " [ 1.      5.7292]\n",
      " [ 1.      5.1884]\n",
      " [ 1.      6.3557]\n",
      " [ 1.      9.7687]\n",
      " [ 1.      6.5159]\n",
      " [ 1.      8.5172]\n",
      " [ 1.      9.1802]\n",
      " [ 1.      6.002 ]\n",
      " [ 1.      5.5204]\n",
      " [ 1.      5.0594]\n",
      " [ 1.      5.7077]\n",
      " [ 1.      7.6366]\n",
      " [ 1.      5.8707]\n",
      " [ 1.      5.3054]\n",
      " [ 1.      8.2934]\n",
      " [ 1.     13.394 ]\n",
      " [ 1.      5.4369]]\n"
     ]
    }
   ],
   "source": [
    "print(X)\n",
    "X1=np.insert(X,0,1,axis=1)\n",
    "print(X1)"
   ]
  },
  {
   "cell_type": "code",
   "execution_count": 35,
   "metadata": {},
   "outputs": [
    {
     "data": {
      "text/plain": [
       "<Figure size 720x432 with 0 Axes>"
      ]
     },
     "execution_count": 35,
     "metadata": {},
     "output_type": "execute_result"
    },
    {
     "data": {
      "text/plain": [
       "<Figure size 720x432 with 0 Axes>"
      ]
     },
     "metadata": {},
     "output_type": "display_data"
    }
   ],
   "source": []
  },
  {
   "cell_type": "code",
   "execution_count": 47,
   "metadata": {},
   "outputs": [
    {
     "data": {
      "text/plain": [
       "Text(0.5, 0, 'Population of City in 10,000s')"
      ]
     },
     "execution_count": 47,
     "metadata": {},
     "output_type": "execute_result"
    },
    {
     "data": {
      "image/png": "[encoded data removed]",
      "text/plain": [
       "<Figure size 720x432 with 1 Axes>"
      ]
     },
     "metadata": {
      "needs_background": "light"
     },
     "output_type": "display_data"
    }
   ],
   "source": [
    "plt.figure(figsize=(10,6))\n",
    "plt.plot(X[:,0],Y[:,0],'rx',markersize=5)\n",
    "plt.grid(True)\n",
    "plt.ylabel('Profit in $10,000s')\n",
    "plt.xlabel('Population of City in 10,000s')"
   ]
  },
  {
   "cell_type": "markdown",
   "metadata": {},
   "source": [
    "## Gradient Descent"
   ]
  },
  {
   "cell_type": "code",
   "execution_count": 48,
   "metadata": {},
   "outputs": [],
   "source": [
    "iterations=1000\n",
    "alpha = 0.01"
   ]
  },
  {
   "cell_type": "code",
   "execution_count": 56,
   "metadata": {},
   "outputs": [],
   "source": [
    "def h(theta,X): #theta column. X matrix (X0 ==1 X1 X2 X3)(theta0 theta1)\n",
    "    return np.dot(X,theta)"
   ]
  },
  {
   "cell_type": "code",
   "execution_count": 93,
   "metadata": {},
   "outputs": [],
   "source": [
    "A=np.array([[0,1],[1,2]])"
   ]
  },
  {
   "cell_type": "code",
   "execution_count": 94,
   "metadata": {},
   "outputs": [],
   "source": [
    "B=[[1,2],[3,4]]"
   ]
  },
  {
   "cell_type": "code",
   "execution_count": 95,
   "metadata": {},
   "outputs": [],
   "source": [
    "C=np.array([2,3])"
   ]
  },
  {
   "cell_type": "code",
   "execution_count": 96,
   "metadata": {},
   "outputs": [
    {
     "data": {
      "text/plain": [
       "array([3, 8])"
      ]
     },
     "execution_count": 96,
     "metadata": {},
     "output_type": "execute_result"
    }
   ],
   "source": [
    "np.dot(A,C)"
   ]
  },
  {
   "cell_type": "code",
   "execution_count": 54,
   "metadata": {},
   "outputs": [
    {
     "data": {
      "text/plain": [
       "array([[ 3,  4],\n",
       "       [ 7, 10]])"
      ]
     },
     "execution_count": 54,
     "metadata": {},
     "output_type": "execute_result"
    }
   ],
   "source": [
    "np.matmul(A,B)"
   ]
  },
  {
   "cell_type": "code",
   "execution_count": 55,
   "metadata": {},
   "outputs": [
    {
     "data": {
      "text/plain": [
       "array([[ 3,  4],\n",
       "       [ 7, 10]])"
      ]
     },
     "execution_count": 55,
     "metadata": {},
     "output_type": "execute_result"
    }
   ],
   "source": [
    "np.dot(A,B)"
   ]
  },
  {
   "cell_type": "code",
   "execution_count": 72,
   "metadata": {},
   "outputs": [
    {
     "data": {
      "text/plain": [
       "array([[ 1.31514568, -2.05167286, -0.23116617,  0.17001696, -0.03559891]])"
      ]
     },
     "execution_count": 72,
     "metadata": {},
     "output_type": "execute_result"
    }
   ],
   "source": [
    "A=np.random.randn(1,5)\n",
    "A"
   ]
  },
  {
   "cell_type": "code",
   "execution_count": 73,
   "metadata": {},
   "outputs": [
    {
     "data": {
      "text/plain": [
       "array([[2.20930734],\n",
       "       [0.90503698],\n",
       "       [1.49088875],\n",
       "       [0.45216361],\n",
       "       [1.98217092]])"
      ]
     },
     "execution_count": 73,
     "metadata": {},
     "output_type": "execute_result"
    }
   ],
   "source": [
    "B=np.random.randn(5,1)\n",
    "B"
   ]
  },
  {
   "cell_type": "code",
   "execution_count": 84,
   "metadata": {},
   "outputs": [
    {
     "ename": "ValueError",
     "evalue": "shapes (5,1) and (5,1) not aligned: 1 (dim 1) != 5 (dim 0)",
     "output_type": "error",
     "traceback": [
      "\u001b[1;31m---------------------------------------------------------------------------\u001b[0m",
      "\u001b[1;31mValueError\u001b[0m                                Traceback (most recent call last)",
      "\u001b[1;32m<ipython-input-84-f98cea5969d4>\u001b[0m in \u001b[0;36m<module>\u001b[1;34m\u001b[0m\n\u001b[1;32m----> 1\u001b[1;33m \u001b[0mnp\u001b[0m\u001b[1;33m.\u001b[0m\u001b[0mdot\u001b[0m\u001b[1;33m(\u001b[0m\u001b[0mB\u001b[0m\u001b[1;33m,\u001b[0m\u001b[0mB\u001b[0m\u001b[1;33m)\u001b[0m\u001b[1;33m\u001b[0m\u001b[1;33m\u001b[0m\u001b[0m\n\u001b[0m",
      "\u001b[1;32m<__array_function__ internals>\u001b[0m in \u001b[0;36mdot\u001b[1;34m(*args, **kwargs)\u001b[0m\n",
      "\u001b[1;31mValueError\u001b[0m: shapes (5,1) and (5,1) not aligned: 1 (dim 1) != 5 (dim 0)"
     ]
    }
   ],
   "source": [
    "np.dot(B,B)"
   ]
  },
  {
   "cell_type": "code",
   "execution_count": 74,
   "metadata": {},
   "outputs": [
    {
     "data": {
      "text/plain": [
       "array([[ 2.905561  , -4.53277592, -0.51071711,  0.37561971, -0.07864893],\n",
       "       [ 1.19025546, -1.8568398 , -0.20921393,  0.15387163, -0.03221833],\n",
       "       [ 1.9607359 , -3.05881599, -0.34464304,  0.25347637, -0.05307401],\n",
       "       [ 0.59466101, -0.9276918 , -0.10452493,  0.07687548, -0.01609653],\n",
       "       [ 2.60684351, -4.06676628, -0.45821085,  0.33700267, -0.07056312]])"
      ]
     },
     "execution_count": 74,
     "metadata": {},
     "output_type": "execute_result"
    }
   ],
   "source": [
    "A*B"
   ]
  },
  {
   "cell_type": "code",
   "execution_count": 75,
   "metadata": {},
   "outputs": [
    {
     "data": {
      "text/plain": [
       "array([[ 2.905561  , -4.53277592, -0.51071711,  0.37561971, -0.07864893],\n",
       "       [ 1.19025546, -1.8568398 , -0.20921393,  0.15387163, -0.03221833],\n",
       "       [ 1.9607359 , -3.05881599, -0.34464304,  0.25347637, -0.05307401],\n",
       "       [ 0.59466101, -0.9276918 , -0.10452493,  0.07687548, -0.01609653],\n",
       "       [ 2.60684351, -4.06676628, -0.45821085,  0.33700267, -0.07056312]])"
      ]
     },
     "execution_count": 75,
     "metadata": {},
     "output_type": "execute_result"
    }
   ],
   "source": [
    "B*A"
   ]
  },
  {
   "cell_type": "code",
   "execution_count": 76,
   "metadata": {},
   "outputs": [
    {
     "data": {
      "text/plain": [
       "array([[0.71039052]])"
      ]
     },
     "execution_count": 76,
     "metadata": {},
     "output_type": "execute_result"
    }
   ],
   "source": [
    "A@B"
   ]
  },
  {
   "cell_type": "code",
   "execution_count": 77,
   "metadata": {},
   "outputs": [
    {
     "data": {
      "text/plain": [
       "array([[ 2.905561  , -4.53277592, -0.51071711,  0.37561971, -0.07864893],\n",
       "       [ 1.19025546, -1.8568398 , -0.20921393,  0.15387163, -0.03221833],\n",
       "       [ 1.9607359 , -3.05881599, -0.34464304,  0.25347637, -0.05307401],\n",
       "       [ 0.59466101, -0.9276918 , -0.10452493,  0.07687548, -0.01609653],\n",
       "       [ 2.60684351, -4.06676628, -0.45821085,  0.33700267, -0.07056312]])"
      ]
     },
     "execution_count": 77,
     "metadata": {},
     "output_type": "execute_result"
    }
   ],
   "source": [
    "B@A"
   ]
  },
  {
   "cell_type": "code",
   "execution_count": 78,
   "metadata": {},
   "outputs": [
    {
     "data": {
      "text/plain": [
       "array([[0.71039052]])"
      ]
     },
     "execution_count": 78,
     "metadata": {},
     "output_type": "execute_result"
    }
   ],
   "source": [
    "np.matmul(A,B)"
   ]
  },
  {
   "cell_type": "code",
   "execution_count": 79,
   "metadata": {},
   "outputs": [
    {
     "data": {
      "text/plain": [
       "array([[ 2.905561  , -4.53277592, -0.51071711,  0.37561971, -0.07864893],\n",
       "       [ 1.19025546, -1.8568398 , -0.20921393,  0.15387163, -0.03221833],\n",
       "       [ 1.9607359 , -3.05881599, -0.34464304,  0.25347637, -0.05307401],\n",
       "       [ 0.59466101, -0.9276918 , -0.10452493,  0.07687548, -0.01609653],\n",
       "       [ 2.60684351, -4.06676628, -0.45821085,  0.33700267, -0.07056312]])"
      ]
     },
     "execution_count": 79,
     "metadata": {},
     "output_type": "execute_result"
    }
   ],
   "source": [
    "np.matmul(B,A)"
   ]
  },
  {
   "cell_type": "code",
   "execution_count": 80,
   "metadata": {},
   "outputs": [
    {
     "data": {
      "text/plain": [
       "array([[0.71039052]])"
      ]
     },
     "execution_count": 80,
     "metadata": {},
     "output_type": "execute_result"
    }
   ],
   "source": [
    "np.dot(A,B)"
   ]
  },
  {
   "cell_type": "code",
   "execution_count": 85,
   "metadata": {},
   "outputs": [
    {
     "data": {
      "text/plain": [
       "array([[ 1.31514568],\n",
       "       [-2.05167286],\n",
       "       [-0.23116617],\n",
       "       [ 0.17001696],\n",
       "       [-0.03559891]])"
      ]
     },
     "execution_count": 85,
     "metadata": {},
     "output_type": "execute_result"
    }
   ],
   "source": [
    "A.T"
   ]
  },
  {
   "cell_type": "code",
   "execution_count": 81,
   "metadata": {},
   "outputs": [
    {
     "data": {
      "text/plain": [
       "array([[ 2.905561  , -4.53277592, -0.51071711,  0.37561971, -0.07864893],\n",
       "       [ 1.19025546, -1.8568398 , -0.20921393,  0.15387163, -0.03221833],\n",
       "       [ 1.9607359 , -3.05881599, -0.34464304,  0.25347637, -0.05307401],\n",
       "       [ 0.59466101, -0.9276918 , -0.10452493,  0.07687548, -0.01609653],\n",
       "       [ 2.60684351, -4.06676628, -0.45821085,  0.33700267, -0.07056312]])"
      ]
     },
     "execution_count": 81,
     "metadata": {},
     "output_type": "execute_result"
    }
   ],
   "source": [
    "np.dot(B,A)"
   ]
  },
  {
   "cell_type": "code",
   "execution_count": 179,
   "metadata": {},
   "outputs": [],
   "source": [
    "def computeCost(mytheta,X,Y):#Cost function\n",
    "    size=X.shape[0]\n",
    "    return float((1./(2*size))* np.dot((h(mytheta,X)-Y).T,(h(mytheta,X)-Y)))\n"
   ]
  },
  {
   "cell_type": "code",
   "execution_count": 171,
   "metadata": {},
   "outputs": [
    {
     "data": {
      "text/plain": [
       "array([[0.],\n",
       "       [0.]])"
      ]
     },
     "execution_count": 171,
     "metadata": {},
     "output_type": "execute_result"
    }
   ],
   "source": [
    "initial_theta=np.zeros((X1.shape[1],1))\n",
    "initial_theta"
   ]
  },
  {
   "cell_type": "code",
   "execution_count": 172,
   "metadata": {},
   "outputs": [
    {
     "data": {
      "text/plain": [
       "array([[ 1.    ,  6.1101],\n",
       "       [ 1.    ,  5.5277],\n",
       "       [ 1.    ,  8.5186],\n",
       "       [ 1.    ,  7.0032],\n",
       "       [ 1.    ,  5.8598],\n",
       "       [ 1.    ,  8.3829],\n",
       "       [ 1.    ,  7.4764],\n",
       "       [ 1.    ,  8.5781],\n",
       "       [ 1.    ,  6.4862],\n",
       "       [ 1.    ,  5.0546],\n",
       "       [ 1.    ,  5.7107],\n",
       "       [ 1.    , 14.164 ],\n",
       "       [ 1.    ,  5.734 ],\n",
       "       [ 1.    ,  8.4084],\n",
       "       [ 1.    ,  5.6407],\n",
       "       [ 1.    ,  5.3794],\n",
       "       [ 1.    ,  6.3654],\n",
       "       [ 1.    ,  5.1301],\n",
       "       [ 1.    ,  6.4296],\n",
       "       [ 1.    ,  7.0708],\n",
       "       [ 1.    ,  6.1891],\n",
       "       [ 1.    , 20.27  ],\n",
       "       [ 1.    ,  5.4901],\n",
       "       [ 1.    ,  6.3261],\n",
       "       [ 1.    ,  5.5649],\n",
       "       [ 1.    , 18.945 ],\n",
       "       [ 1.    , 12.828 ],\n",
       "       [ 1.    , 10.957 ],\n",
       "       [ 1.    , 13.176 ],\n",
       "       [ 1.    , 22.203 ],\n",
       "       [ 1.    ,  5.2524],\n",
       "       [ 1.    ,  6.5894],\n",
       "       [ 1.    ,  9.2482],\n",
       "       [ 1.    ,  5.8918],\n",
       "       [ 1.    ,  8.2111],\n",
       "       [ 1.    ,  7.9334],\n",
       "       [ 1.    ,  8.0959],\n",
       "       [ 1.    ,  5.6063],\n",
       "       [ 1.    , 12.836 ],\n",
       "       [ 1.    ,  6.3534],\n",
       "       [ 1.    ,  5.4069],\n",
       "       [ 1.    ,  6.8825],\n",
       "       [ 1.    , 11.708 ],\n",
       "       [ 1.    ,  5.7737],\n",
       "       [ 1.    ,  7.8247],\n",
       "       [ 1.    ,  7.0931],\n",
       "       [ 1.    ,  5.0702],\n",
       "       [ 1.    ,  5.8014],\n",
       "       [ 1.    , 11.7   ],\n",
       "       [ 1.    ,  5.5416],\n",
       "       [ 1.    ,  7.5402],\n",
       "       [ 1.    ,  5.3077],\n",
       "       [ 1.    ,  7.4239],\n",
       "       [ 1.    ,  7.6031],\n",
       "       [ 1.    ,  6.3328],\n",
       "       [ 1.    ,  6.3589],\n",
       "       [ 1.    ,  6.2742],\n",
       "       [ 1.    ,  5.6397],\n",
       "       [ 1.    ,  9.3102],\n",
       "       [ 1.    ,  9.4536],\n",
       "       [ 1.    ,  8.8254],\n",
       "       [ 1.    ,  5.1793],\n",
       "       [ 1.    , 21.279 ],\n",
       "       [ 1.    , 14.908 ],\n",
       "       [ 1.    , 18.959 ],\n",
       "       [ 1.    ,  7.2182],\n",
       "       [ 1.    ,  8.2951],\n",
       "       [ 1.    , 10.236 ],\n",
       "       [ 1.    ,  5.4994],\n",
       "       [ 1.    , 20.341 ],\n",
       "       [ 1.    , 10.136 ],\n",
       "       [ 1.    ,  7.3345],\n",
       "       [ 1.    ,  6.0062],\n",
       "       [ 1.    ,  7.2259],\n",
       "       [ 1.    ,  5.0269],\n",
       "       [ 1.    ,  6.5479],\n",
       "       [ 1.    ,  7.5386],\n",
       "       [ 1.    ,  5.0365],\n",
       "       [ 1.    , 10.274 ],\n",
       "       [ 1.    ,  5.1077],\n",
       "       [ 1.    ,  5.7292],\n",
       "       [ 1.    ,  5.1884],\n",
       "       [ 1.    ,  6.3557],\n",
       "       [ 1.    ,  9.7687],\n",
       "       [ 1.    ,  6.5159],\n",
       "       [ 1.    ,  8.5172],\n",
       "       [ 1.    ,  9.1802],\n",
       "       [ 1.    ,  6.002 ],\n",
       "       [ 1.    ,  5.5204],\n",
       "       [ 1.    ,  5.0594],\n",
       "       [ 1.    ,  5.7077],\n",
       "       [ 1.    ,  7.6366],\n",
       "       [ 1.    ,  5.8707],\n",
       "       [ 1.    ,  5.3054],\n",
       "       [ 1.    ,  8.2934],\n",
       "       [ 1.    , 13.394 ],\n",
       "       [ 1.    ,  5.4369]])"
      ]
     },
     "execution_count": 172,
     "metadata": {},
     "output_type": "execute_result"
    }
   ],
   "source": [
    "X1"
   ]
  },
  {
   "cell_type": "code",
   "execution_count": 173,
   "metadata": {},
   "outputs": [
    {
     "name": "stdout",
     "output_type": "stream",
     "text": [
      "97\n",
      "32.07273387745567\n",
      "[[0.]\n",
      " [0.]]\n"
     ]
    }
   ],
   "source": [
    "print(computeCost(initial_theta,X1,Y))\n",
    "print(initial_theta)"
   ]
  },
  {
   "cell_type": "code",
   "execution_count": 174,
   "metadata": {},
   "outputs": [
    {
     "name": "stdout",
     "output_type": "stream",
     "text": [
      "[[0.]\n",
      " [0.]]\n"
     ]
    }
   ],
   "source": [
    "print(np.zeros((X1.shape[1],1)))"
   ]
  },
  {
   "cell_type": "code",
   "execution_count": 175,
   "metadata": {},
   "outputs": [
    {
     "data": {
      "text/plain": [
       "array([[ 1.    ,  6.1101],\n",
       "       [ 1.    ,  5.5277],\n",
       "       [ 1.    ,  8.5186],\n",
       "       [ 1.    ,  7.0032],\n",
       "       [ 1.    ,  5.8598],\n",
       "       [ 1.    ,  8.3829],\n",
       "       [ 1.    ,  7.4764],\n",
       "       [ 1.    ,  8.5781],\n",
       "       [ 1.    ,  6.4862],\n",
       "       [ 1.    ,  5.0546],\n",
       "       [ 1.    ,  5.7107],\n",
       "       [ 1.    , 14.164 ],\n",
       "       [ 1.    ,  5.734 ],\n",
       "       [ 1.    ,  8.4084],\n",
       "       [ 1.    ,  5.6407],\n",
       "       [ 1.    ,  5.3794],\n",
       "       [ 1.    ,  6.3654],\n",
       "       [ 1.    ,  5.1301],\n",
       "       [ 1.    ,  6.4296],\n",
       "       [ 1.    ,  7.0708],\n",
       "       [ 1.    ,  6.1891],\n",
       "       [ 1.    , 20.27  ],\n",
       "       [ 1.    ,  5.4901],\n",
       "       [ 1.    ,  6.3261],\n",
       "       [ 1.    ,  5.5649],\n",
       "       [ 1.    , 18.945 ],\n",
       "       [ 1.    , 12.828 ],\n",
       "       [ 1.    , 10.957 ],\n",
       "       [ 1.    , 13.176 ],\n",
       "       [ 1.    , 22.203 ],\n",
       "       [ 1.    ,  5.2524],\n",
       "       [ 1.    ,  6.5894],\n",
       "       [ 1.    ,  9.2482],\n",
       "       [ 1.    ,  5.8918],\n",
       "       [ 1.    ,  8.2111],\n",
       "       [ 1.    ,  7.9334],\n",
       "       [ 1.    ,  8.0959],\n",
       "       [ 1.    ,  5.6063],\n",
       "       [ 1.    , 12.836 ],\n",
       "       [ 1.    ,  6.3534],\n",
       "       [ 1.    ,  5.4069],\n",
       "       [ 1.    ,  6.8825],\n",
       "       [ 1.    , 11.708 ],\n",
       "       [ 1.    ,  5.7737],\n",
       "       [ 1.    ,  7.8247],\n",
       "       [ 1.    ,  7.0931],\n",
       "       [ 1.    ,  5.0702],\n",
       "       [ 1.    ,  5.8014],\n",
       "       [ 1.    , 11.7   ],\n",
       "       [ 1.    ,  5.5416],\n",
       "       [ 1.    ,  7.5402],\n",
       "       [ 1.    ,  5.3077],\n",
       "       [ 1.    ,  7.4239],\n",
       "       [ 1.    ,  7.6031],\n",
       "       [ 1.    ,  6.3328],\n",
       "       [ 1.    ,  6.3589],\n",
       "       [ 1.    ,  6.2742],\n",
       "       [ 1.    ,  5.6397],\n",
       "       [ 1.    ,  9.3102],\n",
       "       [ 1.    ,  9.4536],\n",
       "       [ 1.    ,  8.8254],\n",
       "       [ 1.    ,  5.1793],\n",
       "       [ 1.    , 21.279 ],\n",
       "       [ 1.    , 14.908 ],\n",
       "       [ 1.    , 18.959 ],\n",
       "       [ 1.    ,  7.2182],\n",
       "       [ 1.    ,  8.2951],\n",
       "       [ 1.    , 10.236 ],\n",
       "       [ 1.    ,  5.4994],\n",
       "       [ 1.    , 20.341 ],\n",
       "       [ 1.    , 10.136 ],\n",
       "       [ 1.    ,  7.3345],\n",
       "       [ 1.    ,  6.0062],\n",
       "       [ 1.    ,  7.2259],\n",
       "       [ 1.    ,  5.0269],\n",
       "       [ 1.    ,  6.5479],\n",
       "       [ 1.    ,  7.5386],\n",
       "       [ 1.    ,  5.0365],\n",
       "       [ 1.    , 10.274 ],\n",
       "       [ 1.    ,  5.1077],\n",
       "       [ 1.    ,  5.7292],\n",
       "       [ 1.    ,  5.1884],\n",
       "       [ 1.    ,  6.3557],\n",
       "       [ 1.    ,  9.7687],\n",
       "       [ 1.    ,  6.5159],\n",
       "       [ 1.    ,  8.5172],\n",
       "       [ 1.    ,  9.1802],\n",
       "       [ 1.    ,  6.002 ],\n",
       "       [ 1.    ,  5.5204],\n",
       "       [ 1.    ,  5.0594],\n",
       "       [ 1.    ,  5.7077],\n",
       "       [ 1.    ,  7.6366],\n",
       "       [ 1.    ,  5.8707],\n",
       "       [ 1.    ,  5.3054],\n",
       "       [ 1.    ,  8.2934],\n",
       "       [ 1.    , 13.394 ],\n",
       "       [ 1.    ,  5.4369]])"
      ]
     },
     "execution_count": 175,
     "metadata": {},
     "output_type": "execute_result"
    }
   ],
   "source": [
    "X1"
   ]
  },
  {
   "cell_type": "code",
   "execution_count": 182,
   "metadata": {},
   "outputs": [],
   "source": [
    "def descendGradient(X, Y,iteration, alpha=0.01):\n",
    "    theta_start=np.zeros((X.shape[1],1))\n",
    "    theta= theta_start\n",
    "    #print(\"theta=\",theta)\n",
    "    jvec=[]\n",
    "    thetahistory = []\n",
    "    count=0\n",
    "    size=X.shape[0]\n",
    "    while count < iteration:\n",
    "        count+=1\n",
    "        tmptheta=theta\n",
    "        jvec.append(computeCost(theta,X,Y))\n",
    "        thetahistory.append(list(theta[:]))\n",
    "        for j in range(len(tmptheta)):\n",
    "            tmptheta[j] = theta[j] - (alpha/size)*np.sum((h(theta,X)-Y) \\\n",
    "                * np.array(X[:,j]).reshape(size,1))\n",
    "        theta=tmptheta\n",
    "    return theta, thetahistory, jvec"
   ]
  },
  {
   "cell_type": "code",
   "execution_count": 183,
   "metadata": {},
   "outputs": [
    {
     "name": "stdout",
     "output_type": "stream",
     "text": [
      "theta= [[0.]\n",
      " [0.]]\n"
     ]
    }
   ],
   "source": [
    "theta, thetahistory, jvec = descendGradient(X1, Y, 1500)"
   ]
  },
  {
   "cell_type": "code",
   "execution_count": 185,
   "metadata": {},
   "outputs": [
    {
     "name": "stdout",
     "output_type": "stream",
     "text": [
      "[[-3.63606348]\n",
      " [ 1.16698916]] [[array([-3.63606348]), array([1.16698916])], [array([-3.63606348]), array([1.16698916])], [array([-3.63606348]), array([1.16698916])], [array([-3.63606348]), array([1.16698916])], [array([-3.63606348]), array([1.16698916])], [array([-3.63606348]), array([1.16698916])], [array([-3.63606348]), array([1.16698916])], [array([-3.63606348]), array([1.16698916])], [array([-3.63606348]), array([1.16698916])], [array([-3.63606348]), array([1.16698916])], [array([-3.63606348]), array([1.16698916])], [array([-3.63606348]), array([1.16698916])], [array([-3.63606348]), array([1.16698916])], [array([-3.63606348]), array([1.16698916])], [array([-3.63606348]), array([1.16698916])], [array([-3.63606348]), array([1.16698916])], [array([-3.63606348]), array([1.16698916])], [array([-3.63606348]), array([1.16698916])], [array([-3.63606348]), array([1.16698916])], [array([-3.63606348]), array([1.16698916])], [array([-3.63606348]), array([1.16698916])], [array([-3.63606348]), array([1.16698916])], [array([-3.63606348]), array([1.16698916])], [array([-3.63606348]), array([1.16698916])], [array([-3.63606348]), array([1.16698916])], [array([-3.63606348]), array([1.16698916])], [array([-3.63606348]), array([1.16698916])], [array([-3.63606348]), array([1.16698916])], [array([-3.63606348]), array([1.16698916])], [array([-3.63606348]), array([1.16698916])], [array([-3.63606348]), array([1.16698916])], [array([-3.63606348]), array([1.16698916])], [array([-3.63606348]), array([1.16698916])], [array([-3.63606348]), array([1.16698916])], [array([-3.63606348]), array([1.16698916])], [array([-3.63606348]), array([1.16698916])], [array([-3.63606348]), array([1.16698916])], [array([-3.63606348]), array([1.16698916])], [array([-3.63606348]), array([1.16698916])], [array([-3.63606348]), array([1.16698916])], [array([-3.63606348]), array([1.16698916])], [array([-3.63606348]), array([1.16698916])], [array([-3.63606348]), array([1.16698916])], [array([-3.63606348]), array([1.16698916])], [array([-3.63606348]), array([1.16698916])], [array([-3.63606348]), array([1.16698916])], [array([-3.63606348]), array([1.16698916])], [array([-3.63606348]), array([1.16698916])], [array([-3.63606348]), array([1.16698916])], [array([-3.63606348]), array([1.16698916])], [array([-3.63606348]), array([1.16698916])], [array([-3.63606348]), array([1.16698916])], [array([-3.63606348]), array([1.16698916])], [array([-3.63606348]), array([1.16698916])], [array([-3.63606348]), array([1.16698916])], [array([-3.63606348]), array([1.16698916])], [array([-3.63606348]), array([1.16698916])], [array([-3.63606348]), array([1.16698916])], [array([-3.63606348]), array([1.16698916])], [array([-3.63606348]), array([1.16698916])], [array([-3.63606348]), array([1.16698916])], [array([-3.63606348]), array([1.16698916])], [array([-3.63606348]), array([1.16698916])], [array([-3.63606348]), array([1.16698916])], [array([-3.63606348]), array([1.16698916])], [array([-3.63606348]), array([1.16698916])], [array([-3.63606348]), array([1.16698916])], [array([-3.63606348]), array([1.16698916])], [array([-3.63606348]), array([1.16698916])], [array([-3.63606348]), array([1.16698916])], [array([-3.63606348]), array([1.16698916])], [array([-3.63606348]), array([1.16698916])], [array([-3.63606348]), array([1.16698916])], [array([-3.63606348]), array([1.16698916])], [array([-3.63606348]), array([1.16698916])], [array([-3.63606348]), array([1.16698916])], [array([-3.63606348]), array([1.16698916])], [array([-3.63606348]), array([1.16698916])], [array([-3.63606348]), array([1.16698916])], [array([-3.63606348]), array([1.16698916])], [array([-3.63606348]), array([1.16698916])], [array([-3.63606348]), array([1.16698916])], [array([-3.63606348]), array([1.16698916])], [array([-3.63606348]), array([1.16698916])], [array([-3.63606348]), array([1.16698916])], [array([-3.63606348]), array([1.16698916])], [array([-3.63606348]), array([1.16698916])], [array([-3.63606348]), array([1.16698916])], [array([-3.63606348]), array([1.16698916])], [array([-3.63606348]), array([1.16698916])], [array([-3.63606348]), array([1.16698916])], [array([-3.63606348]), array([1.16698916])], [array([-3.63606348]), array([1.16698916])], [array([-3.63606348]), array([1.16698916])], [array([-3.63606348]), array([1.16698916])], [array([-3.63606348]), array([1.16698916])], [array([-3.63606348]), array([1.16698916])], [array([-3.63606348]), array([1.16698916])], [array([-3.63606348]), array([1.16698916])], [array([-3.63606348]), array([1.16698916])], [array([-3.63606348]), array([1.16698916])], [array([-3.63606348]), array([1.16698916])], [array([-3.63606348]), array([1.16698916])], [array([-3.63606348]), array([1.16698916])], [array([-3.63606348]), array([1.16698916])], [array([-3.63606348]), array([1.16698916])], [array([-3.63606348]), array([1.16698916])], [array([-3.63606348]), array([1.16698916])], [array([-3.63606348]), array([1.16698916])], [array([-3.63606348]), array([1.16698916])], [array([-3.63606348]), array([1.16698916])], [array([-3.63606348]), array([1.16698916])], [array([-3.63606348]), array([1.16698916])], [array([-3.63606348]), array([1.16698916])], [array([-3.63606348]), array([1.16698916])], [array([-3.63606348]), array([1.16698916])], [array([-3.63606348]), array([1.16698916])], [array([-3.63606348]), array([1.16698916])], [array([-3.63606348]), array([1.16698916])], [array([-3.63606348]), array([1.16698916])], [array([-3.63606348]), array([1.16698916])], [array([-3.63606348]), array([1.16698916])], [array([-3.63606348]), array([1.16698916])], [array([-3.63606348]), array([1.16698916])], [array([-3.63606348]), array([1.16698916])], [array([-3.63606348]), array([1.16698916])], [array([-3.63606348]), array([1.16698916])], [array([-3.63606348]), array([1.16698916])], [array([-3.63606348]), array([1.16698916])], [array([-3.63606348]), array([1.16698916])], [array([-3.63606348]), array([1.16698916])], [array([-3.63606348]), array([1.16698916])], [array([-3.63606348]), array([1.16698916])], [array([-3.63606348]), array([1.16698916])], [array([-3.63606348]), array([1.16698916])], [array([-3.63606348]), array([1.16698916])], [array([-3.63606348]), array([1.16698916])], [array([-3.63606348]), array([1.16698916])], [array([-3.63606348]), array([1.16698916])], [array([-3.63606348]), array([1.16698916])], [array([-3.63606348]), array([1.16698916])], [array([-3.63606348]), array([1.16698916])], [array([-3.63606348]), array([1.16698916])], [array([-3.63606348]), array([1.16698916])], [array([-3.63606348]), array([1.16698916])], [array([-3.63606348]), array([1.16698916])], [array([-3.63606348]), array([1.16698916])], [array([-3.63606348]), array([1.16698916])], [array([-3.63606348]), array([1.16698916])], [array([-3.63606348]), array([1.16698916])], [array([-3.63606348]), array([1.16698916])], [array([-3.63606348]), array([1.16698916])], [array([-3.63606348]), array([1.16698916])], [array([-3.63606348]), array([1.16698916])], [array([-3.63606348]), array([1.16698916])], [array([-3.63606348]), array([1.16698916])], [array([-3.63606348]), array([1.16698916])], [array([-3.63606348]), array([1.16698916])], [array([-3.63606348]), array([1.16698916])], [array([-3.63606348]), array([1.16698916])], [array([-3.63606348]), array([1.16698916])], [array([-3.63606348]), array([1.16698916])], [array([-3.63606348]), array([1.16698916])], [array([-3.63606348]), array([1.16698916])], [array([-3.63606348]), array([1.16698916])], [array([-3.63606348]), array([1.16698916])], [array([-3.63606348]), array([1.16698916])], [array([-3.63606348]), array([1.16698916])], [array([-3.63606348]), array([1.16698916])], [array([-3.63606348]), array([1.16698916])], [array([-3.63606348]), array([1.16698916])], [array([-3.63606348]), array([1.16698916])], [array([-3.63606348]), array([1.16698916])], [array([-3.63606348]), array([1.16698916])], [array([-3.63606348]), array([1.16698916])], [array([-3.63606348]), array([1.16698916])], [array([-3.63606348]), array([1.16698916])], [array([-3.63606348]), array([1.16698916])], [array([-3.63606348]), array([1.16698916])], [array([-3.63606348]), array([1.16698916])], [array([-3.63606348]), array([1.16698916])], [array([-3.63606348]), array([1.16698916])], [array([-3.63606348]), array([1.16698916])], [array([-3.63606348]), array([1.16698916])], [array([-3.63606348]), array([1.16698916])], [array([-3.63606348]), array([1.16698916])], [array([-3.63606348]), array([1.16698916])], [array([-3.63606348]), array([1.16698916])], [array([-3.63606348]), array([1.16698916])], [array([-3.63606348]), array([1.16698916])], [array([-3.63606348]), array([1.16698916])], [array([-3.63606348]), array([1.16698916])], [array([-3.63606348]), array([1.16698916])], [array([-3.63606348]), array([1.16698916])], [array([-3.63606348]), array([1.16698916])], [array([-3.63606348]), array([1.16698916])], [array([-3.63606348]), array([1.16698916])], [array([-3.63606348]), array([1.16698916])], [array([-3.63606348]), array([1.16698916])], [array([-3.63606348]), array([1.16698916])], [array([-3.63606348]), array([1.16698916])], [array([-3.63606348]), array([1.16698916])], [array([-3.63606348]), array([1.16698916])], [array([-3.63606348]), array([1.16698916])], [array([-3.63606348]), array([1.16698916])], [array([-3.63606348]), array([1.16698916])], [array([-3.63606348]), array([1.16698916])], [array([-3.63606348]), array([1.16698916])], [array([-3.63606348]), array([1.16698916])], [array([-3.63606348]), array([1.16698916])], [array([-3.63606348]), array([1.16698916])], [array([-3.63606348]), array([1.16698916])], [array([-3.63606348]), array([1.16698916])], [array([-3.63606348]), array([1.16698916])], [array([-3.63606348]), array([1.16698916])], [array([-3.63606348]), array([1.16698916])], [array([-3.63606348]), array([1.16698916])], [array([-3.63606348]), array([1.16698916])], [array([-3.63606348]), array([1.16698916])], [array([-3.63606348]), array([1.16698916])], [array([-3.63606348]), array([1.16698916])], [array([-3.63606348]), array([1.16698916])], [array([-3.63606348]), array([1.16698916])], [array([-3.63606348]), array([1.16698916])], [array([-3.63606348]), array([1.16698916])], [array([-3.63606348]), array([1.16698916])], [array([-3.63606348]), array([1.16698916])], [array([-3.63606348]), array([1.16698916])], [array([-3.63606348]), array([1.16698916])], [array([-3.63606348]), array([1.16698916])], [array([-3.63606348]), array([1.16698916])], [array([-3.63606348]), array([1.16698916])], [array([-3.63606348]), array([1.16698916])], [array([-3.63606348]), array([1.16698916])], [array([-3.63606348]), array([1.16698916])], [array([-3.63606348]), array([1.16698916])], [array([-3.63606348]), array([1.16698916])], [array([-3.63606348]), array([1.16698916])], [array([-3.63606348]), array([1.16698916])], [array([-3.63606348]), array([1.16698916])], [array([-3.63606348]), array([1.16698916])], [array([-3.63606348]), array([1.16698916])], [array([-3.63606348]), array([1.16698916])], [array([-3.63606348]), array([1.16698916])], [array([-3.63606348]), array([1.16698916])], [array([-3.63606348]), array([1.16698916])], [array([-3.63606348]), array([1.16698916])], [array([-3.63606348]), array([1.16698916])], [array([-3.63606348]), array([1.16698916])], [array([-3.63606348]), array([1.16698916])], [array([-3.63606348]), array([1.16698916])], [array([-3.63606348]), array([1.16698916])], [array([-3.63606348]), array([1.16698916])], [array([-3.63606348]), array([1.16698916])], [array([-3.63606348]), array([1.16698916])], [array([-3.63606348]), array([1.16698916])], [array([-3.63606348]), array([1.16698916])], [array([-3.63606348]), array([1.16698916])], [array([-3.63606348]), array([1.16698916])], [array([-3.63606348]), array([1.16698916])], [array([-3.63606348]), array([1.16698916])], [array([-3.63606348]), array([1.16698916])], [array([-3.63606348]), array([1.16698916])], [array([-3.63606348]), array([1.16698916])], [array([-3.63606348]), array([1.16698916])], [array([-3.63606348]), array([1.16698916])], [array([-3.63606348]), array([1.16698916])], [array([-3.63606348]), array([1.16698916])], [array([-3.63606348]), array([1.16698916])], [array([-3.63606348]), array([1.16698916])], [array([-3.63606348]), array([1.16698916])], [array([-3.63606348]), array([1.16698916])], [array([-3.63606348]), array([1.16698916])], [array([-3.63606348]), array([1.16698916])], [array([-3.63606348]), array([1.16698916])], [array([-3.63606348]), array([1.16698916])], [array([-3.63606348]), array([1.16698916])], [array([-3.63606348]), array([1.16698916])], [array([-3.63606348]), array([1.16698916])], [array([-3.63606348]), array([1.16698916])], [array([-3.63606348]), array([1.16698916])], [array([-3.63606348]), array([1.16698916])], [array([-3.63606348]), array([1.16698916])], [array([-3.63606348]), array([1.16698916])], [array([-3.63606348]), array([1.16698916])], [array([-3.63606348]), array([1.16698916])], [array([-3.63606348]), array([1.16698916])], [array([-3.63606348]), array([1.16698916])], [array([-3.63606348]), array([1.16698916])], [array([-3.63606348]), array([1.16698916])], [array([-3.63606348]), array([1.16698916])], [array([-3.63606348]), array([1.16698916])], [array([-3.63606348]), array([1.16698916])], [array([-3.63606348]), array([1.16698916])], [array([-3.63606348]), array([1.16698916])], [array([-3.63606348]), array([1.16698916])], [array([-3.63606348]), array([1.16698916])], [array([-3.63606348]), array([1.16698916])], [array([-3.63606348]), array([1.16698916])], [array([-3.63606348]), array([1.16698916])], [array([-3.63606348]), array([1.16698916])], [array([-3.63606348]), array([1.16698916])], [array([-3.63606348]), array([1.16698916])], [array([-3.63606348]), array([1.16698916])], [array([-3.63606348]), array([1.16698916])], [array([-3.63606348]), array([1.16698916])], [array([-3.63606348]), array([1.16698916])], [array([-3.63606348]), array([1.16698916])], [array([-3.63606348]), array([1.16698916])], [array([-3.63606348]), array([1.16698916])], [array([-3.63606348]), array([1.16698916])], [array([-3.63606348]), array([1.16698916])], [array([-3.63606348]), array([1.16698916])], [array([-3.63606348]), array([1.16698916])], [array([-3.63606348]), array([1.16698916])], [array([-3.63606348]), array([1.16698916])], [array([-3.63606348]), array([1.16698916])], [array([-3.63606348]), array([1.16698916])], [array([-3.63606348]), array([1.16698916])], [array([-3.63606348]), array([1.16698916])], [array([-3.63606348]), array([1.16698916])], [array([-3.63606348]), array([1.16698916])], [array([-3.63606348]), array([1.16698916])], [array([-3.63606348]), array([1.16698916])], [array([-3.63606348]), array([1.16698916])], [array([-3.63606348]), array([1.16698916])], [array([-3.63606348]), array([1.16698916])], [array([-3.63606348]), array([1.16698916])], [array([-3.63606348]), array([1.16698916])], [array([-3.63606348]), array([1.16698916])], [array([-3.63606348]), array([1.16698916])], [array([-3.63606348]), array([1.16698916])], [array([-3.63606348]), array([1.16698916])], [array([-3.63606348]), array([1.16698916])], [array([-3.63606348]), array([1.16698916])], [array([-3.63606348]), array([1.16698916])], [array([-3.63606348]), array([1.16698916])], [array([-3.63606348]), array([1.16698916])], [array([-3.63606348]), array([1.16698916])], [array([-3.63606348]), array([1.16698916])], [array([-3.63606348]), array([1.16698916])], [array([-3.63606348]), array([1.16698916])], [array([-3.63606348]), array([1.16698916])], [array([-3.63606348]), array([1.16698916])], [array([-3.63606348]), array([1.16698916])], [array([-3.63606348]), array([1.16698916])], [array([-3.63606348]), array([1.16698916])], [array([-3.63606348]), array([1.16698916])], [array([-3.63606348]), array([1.16698916])], [array([-3.63606348]), array([1.16698916])], [array([-3.63606348]), array([1.16698916])], [array([-3.63606348]), array([1.16698916])], [array([-3.63606348]), array([1.16698916])], [array([-3.63606348]), array([1.16698916])], [array([-3.63606348]), array([1.16698916])], [array([-3.63606348]), array([1.16698916])], [array([-3.63606348]), array([1.16698916])], [array([-3.63606348]), array([1.16698916])], [array([-3.63606348]), array([1.16698916])], [array([-3.63606348]), array([1.16698916])], [array([-3.63606348]), array([1.16698916])], [array([-3.63606348]), array([1.16698916])], [array([-3.63606348]), array([1.16698916])], [array([-3.63606348]), array([1.16698916])], [array([-3.63606348]), array([1.16698916])], [array([-3.63606348]), array([1.16698916])], [array([-3.63606348]), array([1.16698916])], [array([-3.63606348]), array([1.16698916])], [array([-3.63606348]), array([1.16698916])], [array([-3.63606348]), array([1.16698916])], [array([-3.63606348]), array([1.16698916])], [array([-3.63606348]), array([1.16698916])], [array([-3.63606348]), array([1.16698916])], [array([-3.63606348]), array([1.16698916])], [array([-3.63606348]), array([1.16698916])], [array([-3.63606348]), array([1.16698916])], [array([-3.63606348]), array([1.16698916])], [array([-3.63606348]), array([1.16698916])], [array([-3.63606348]), array([1.16698916])], [array([-3.63606348]), array([1.16698916])], [array([-3.63606348]), array([1.16698916])], [array([-3.63606348]), array([1.16698916])], [array([-3.63606348]), array([1.16698916])], [array([-3.63606348]), array([1.16698916])], [array([-3.63606348]), array([1.16698916])], [array([-3.63606348]), array([1.16698916])], [array([-3.63606348]), array([1.16698916])], [array([-3.63606348]), array([1.16698916])], [array([-3.63606348]), array([1.16698916])], [array([-3.63606348]), array([1.16698916])], [array([-3.63606348]), array([1.16698916])], [array([-3.63606348]), array([1.16698916])], [array([-3.63606348]), array([1.16698916])], [array([-3.63606348]), array([1.16698916])], [array([-3.63606348]), array([1.16698916])], [array([-3.63606348]), array([1.16698916])], [array([-3.63606348]), array([1.16698916])], [array([-3.63606348]), array([1.16698916])], [array([-3.63606348]), array([1.16698916])], [array([-3.63606348]), array([1.16698916])], [array([-3.63606348]), array([1.16698916])], [array([-3.63606348]), array([1.16698916])], [array([-3.63606348]), array([1.16698916])], [array([-3.63606348]), array([1.16698916])], [array([-3.63606348]), array([1.16698916])], [array([-3.63606348]), array([1.16698916])], [array([-3.63606348]), array([1.16698916])], [array([-3.63606348]), array([1.16698916])], [array([-3.63606348]), array([1.16698916])], [array([-3.63606348]), array([1.16698916])], [array([-3.63606348]), array([1.16698916])], [array([-3.63606348]), array([1.16698916])], [array([-3.63606348]), array([1.16698916])], [array([-3.63606348]), array([1.16698916])], [array([-3.63606348]), array([1.16698916])], [array([-3.63606348]), array([1.16698916])], [array([-3.63606348]), array([1.16698916])], [array([-3.63606348]), array([1.16698916])], [array([-3.63606348]), array([1.16698916])], [array([-3.63606348]), array([1.16698916])], [array([-3.63606348]), array([1.16698916])], [array([-3.63606348]), array([1.16698916])], [array([-3.63606348]), array([1.16698916])], [array([-3.63606348]), array([1.16698916])], [array([-3.63606348]), array([1.16698916])], [array([-3.63606348]), array([1.16698916])], [array([-3.63606348]), array([1.16698916])], [array([-3.63606348]), array([1.16698916])], [array([-3.63606348]), array([1.16698916])], [array([-3.63606348]), array([1.16698916])], [array([-3.63606348]), array([1.16698916])], [array([-3.63606348]), array([1.16698916])], [array([-3.63606348]), array([1.16698916])], [array([-3.63606348]), array([1.16698916])], [array([-3.63606348]), array([1.16698916])], [array([-3.63606348]), array([1.16698916])], [array([-3.63606348]), array([1.16698916])], [array([-3.63606348]), array([1.16698916])], [array([-3.63606348]), array([1.16698916])], [array([-3.63606348]), array([1.16698916])], [array([-3.63606348]), array([1.16698916])], [array([-3.63606348]), array([1.16698916])], [array([-3.63606348]), array([1.16698916])], [array([-3.63606348]), array([1.16698916])], [array([-3.63606348]), array([1.16698916])], [array([-3.63606348]), array([1.16698916])], [array([-3.63606348]), array([1.16698916])], [array([-3.63606348]), array([1.16698916])], [array([-3.63606348]), array([1.16698916])], [array([-3.63606348]), array([1.16698916])], [array([-3.63606348]), array([1.16698916])], [array([-3.63606348]), array([1.16698916])], [array([-3.63606348]), array([1.16698916])], [array([-3.63606348]), array([1.16698916])], [array([-3.63606348]), array([1.16698916])], [array([-3.63606348]), array([1.16698916])], [array([-3.63606348]), array([1.16698916])], [array([-3.63606348]), array([1.16698916])], [array([-3.63606348]), array([1.16698916])], [array([-3.63606348]), array([1.16698916])], [array([-3.63606348]), array([1.16698916])], [array([-3.63606348]), array([1.16698916])], [array([-3.63606348]), array([1.16698916])], [array([-3.63606348]), array([1.16698916])], [array([-3.63606348]), array([1.16698916])], [array([-3.63606348]), array([1.16698916])], [array([-3.63606348]), array([1.16698916])], [array([-3.63606348]), array([1.16698916])], [array([-3.63606348]), array([1.16698916])], [array([-3.63606348]), array([1.16698916])], [array([-3.63606348]), array([1.16698916])], [array([-3.63606348]), array([1.16698916])], [array([-3.63606348]), array([1.16698916])], [array([-3.63606348]), array([1.16698916])], [array([-3.63606348]), array([1.16698916])], [array([-3.63606348]), array([1.16698916])], [array([-3.63606348]), array([1.16698916])], [array([-3.63606348]), array([1.16698916])], [array([-3.63606348]), array([1.16698916])], [array([-3.63606348]), array([1.16698916])], [array([-3.63606348]), array([1.16698916])], [array([-3.63606348]), array([1.16698916])], [array([-3.63606348]), array([1.16698916])], [array([-3.63606348]), array([1.16698916])], [array([-3.63606348]), array([1.16698916])], [array([-3.63606348]), array([1.16698916])], [array([-3.63606348]), array([1.16698916])], [array([-3.63606348]), array([1.16698916])], [array([-3.63606348]), array([1.16698916])], [array([-3.63606348]), array([1.16698916])], [array([-3.63606348]), array([1.16698916])], [array([-3.63606348]), array([1.16698916])], [array([-3.63606348]), array([1.16698916])], [array([-3.63606348]), array([1.16698916])], [array([-3.63606348]), array([1.16698916])], [array([-3.63606348]), array([1.16698916])], [array([-3.63606348]), array([1.16698916])], [array([-3.63606348]), array([1.16698916])], [array([-3.63606348]), array([1.16698916])], [array([-3.63606348]), array([1.16698916])], [array([-3.63606348]), array([1.16698916])], [array([-3.63606348]), array([1.16698916])], [array([-3.63606348]), array([1.16698916])], [array([-3.63606348]), array([1.16698916])], [array([-3.63606348]), array([1.16698916])], [array([-3.63606348]), array([1.16698916])], [array([-3.63606348]), array([1.16698916])], [array([-3.63606348]), array([1.16698916])], [array([-3.63606348]), array([1.16698916])], [array([-3.63606348]), array([1.16698916])], [array([-3.63606348]), array([1.16698916])], [array([-3.63606348]), array([1.16698916])], [array([-3.63606348]), array([1.16698916])], [array([-3.63606348]), array([1.16698916])], [array([-3.63606348]), array([1.16698916])], [array([-3.63606348]), array([1.16698916])], [array([-3.63606348]), array([1.16698916])], [array([-3.63606348]), array([1.16698916])], [array([-3.63606348]), array([1.16698916])], [array([-3.63606348]), array([1.16698916])], [array([-3.63606348]), array([1.16698916])], [array([-3.63606348]), array([1.16698916])], [array([-3.63606348]), array([1.16698916])], [array([-3.63606348]), array([1.16698916])], [array([-3.63606348]), array([1.16698916])], [array([-3.63606348]), array([1.16698916])], [array([-3.63606348]), array([1.16698916])], [array([-3.63606348]), array([1.16698916])], [array([-3.63606348]), array([1.16698916])], [array([-3.63606348]), array([1.16698916])], [array([-3.63606348]), array([1.16698916])], [array([-3.63606348]), array([1.16698916])], [array([-3.63606348]), array([1.16698916])], [array([-3.63606348]), array([1.16698916])], [array([-3.63606348]), array([1.16698916])], [array([-3.63606348]), array([1.16698916])], [array([-3.63606348]), array([1.16698916])], [array([-3.63606348]), array([1.16698916])], [array([-3.63606348]), array([1.16698916])], [array([-3.63606348]), array([1.16698916])], [array([-3.63606348]), array([1.16698916])], [array([-3.63606348]), array([1.16698916])], [array([-3.63606348]), array([1.16698916])], [array([-3.63606348]), array([1.16698916])], [array([-3.63606348]), array([1.16698916])], [array([-3.63606348]), array([1.16698916])], [array([-3.63606348]), array([1.16698916])], [array([-3.63606348]), array([1.16698916])], [array([-3.63606348]), array([1.16698916])], [array([-3.63606348]), array([1.16698916])], [array([-3.63606348]), array([1.16698916])], [array([-3.63606348]), array([1.16698916])], [array([-3.63606348]), array([1.16698916])], [array([-3.63606348]), array([1.16698916])], [array([-3.63606348]), array([1.16698916])], [array([-3.63606348]), array([1.16698916])], [array([-3.63606348]), array([1.16698916])], [array([-3.63606348]), array([1.16698916])], [array([-3.63606348]), array([1.16698916])], [array([-3.63606348]), array([1.16698916])], [array([-3.63606348]), array([1.16698916])], [array([-3.63606348]), array([1.16698916])], [array([-3.63606348]), array([1.16698916])], [array([-3.63606348]), array([1.16698916])], [array([-3.63606348]), array([1.16698916])], [array([-3.63606348]), array([1.16698916])], [array([-3.63606348]), array([1.16698916])], [array([-3.63606348]), array([1.16698916])], [array([-3.63606348]), array([1.16698916])], [array([-3.63606348]), array([1.16698916])], [array([-3.63606348]), array([1.16698916])], [array([-3.63606348]), array([1.16698916])], [array([-3.63606348]), array([1.16698916])], [array([-3.63606348]), array([1.16698916])], [array([-3.63606348]), array([1.16698916])], [array([-3.63606348]), array([1.16698916])], [array([-3.63606348]), array([1.16698916])], [array([-3.63606348]), array([1.16698916])], [array([-3.63606348]), array([1.16698916])], [array([-3.63606348]), array([1.16698916])], [array([-3.63606348]), array([1.16698916])], [array([-3.63606348]), array([1.16698916])], [array([-3.63606348]), array([1.16698916])], [array([-3.63606348]), array([1.16698916])], [array([-3.63606348]), array([1.16698916])], [array([-3.63606348]), array([1.16698916])], [array([-3.63606348]), array([1.16698916])], [array([-3.63606348]), array([1.16698916])], [array([-3.63606348]), array([1.16698916])], [array([-3.63606348]), array([1.16698916])], [array([-3.63606348]), array([1.16698916])], [array([-3.63606348]), array([1.16698916])], [array([-3.63606348]), array([1.16698916])], [array([-3.63606348]), array([1.16698916])], [array([-3.63606348]), array([1.16698916])], [array([-3.63606348]), array([1.16698916])], [array([-3.63606348]), array([1.16698916])], [array([-3.63606348]), array([1.16698916])], [array([-3.63606348]), array([1.16698916])], [array([-3.63606348]), array([1.16698916])], [array([-3.63606348]), array([1.16698916])], [array([-3.63606348]), array([1.16698916])], [array([-3.63606348]), array([1.16698916])], [array([-3.63606348]), array([1.16698916])], [array([-3.63606348]), array([1.16698916])], [array([-3.63606348]), array([1.16698916])], [array([-3.63606348]), array([1.16698916])], [array([-3.63606348]), array([1.16698916])], [array([-3.63606348]), array([1.16698916])], [array([-3.63606348]), array([1.16698916])], [array([-3.63606348]), array([1.16698916])], [array([-3.63606348]), array([1.16698916])], [array([-3.63606348]), array([1.16698916])], [array([-3.63606348]), array([1.16698916])], [array([-3.63606348]), array([1.16698916])], [array([-3.63606348]), array([1.16698916])], [array([-3.63606348]), array([1.16698916])], [array([-3.63606348]), array([1.16698916])], [array([-3.63606348]), array([1.16698916])], [array([-3.63606348]), array([1.16698916])], [array([-3.63606348]), array([1.16698916])], [array([-3.63606348]), array([1.16698916])], [array([-3.63606348]), array([1.16698916])], [array([-3.63606348]), array([1.16698916])], [array([-3.63606348]), array([1.16698916])], [array([-3.63606348]), array([1.16698916])], [array([-3.63606348]), array([1.16698916])], [array([-3.63606348]), array([1.16698916])], [array([-3.63606348]), array([1.16698916])], [array([-3.63606348]), array([1.16698916])], [array([-3.63606348]), array([1.16698916])], [array([-3.63606348]), array([1.16698916])], [array([-3.63606348]), array([1.16698916])], [array([-3.63606348]), array([1.16698916])], [array([-3.63606348]), array([1.16698916])], [array([-3.63606348]), array([1.16698916])], [array([-3.63606348]), array([1.16698916])], [array([-3.63606348]), array([1.16698916])], [array([-3.63606348]), array([1.16698916])], [array([-3.63606348]), array([1.16698916])], [array([-3.63606348]), array([1.16698916])], [array([-3.63606348]), array([1.16698916])], [array([-3.63606348]), array([1.16698916])], [array([-3.63606348]), array([1.16698916])], [array([-3.63606348]), array([1.16698916])], [array([-3.63606348]), array([1.16698916])], [array([-3.63606348]), array([1.16698916])], [array([-3.63606348]), array([1.16698916])], [array([-3.63606348]), array([1.16698916])], [array([-3.63606348]), array([1.16698916])], [array([-3.63606348]), array([1.16698916])], [array([-3.63606348]), array([1.16698916])], [array([-3.63606348]), array([1.16698916])], [array([-3.63606348]), array([1.16698916])], [array([-3.63606348]), array([1.16698916])], [array([-3.63606348]), array([1.16698916])], [array([-3.63606348]), array([1.16698916])], [array([-3.63606348]), array([1.16698916])], [array([-3.63606348]), array([1.16698916])], [array([-3.63606348]), array([1.16698916])], [array([-3.63606348]), array([1.16698916])], [array([-3.63606348]), array([1.16698916])], [array([-3.63606348]), array([1.16698916])], [array([-3.63606348]), array([1.16698916])], [array([-3.63606348]), array([1.16698916])], [array([-3.63606348]), array([1.16698916])], [array([-3.63606348]), array([1.16698916])], [array([-3.63606348]), array([1.16698916])], [array([-3.63606348]), array([1.16698916])], [array([-3.63606348]), array([1.16698916])], [array([-3.63606348]), array([1.16698916])], [array([-3.63606348]), array([1.16698916])], [array([-3.63606348]), array([1.16698916])], [array([-3.63606348]), array([1.16698916])], [array([-3.63606348]), array([1.16698916])], [array([-3.63606348]), array([1.16698916])], [array([-3.63606348]), array([1.16698916])], [array([-3.63606348]), array([1.16698916])], [array([-3.63606348]), array([1.16698916])], [array([-3.63606348]), array([1.16698916])], [array([-3.63606348]), array([1.16698916])], [array([-3.63606348]), array([1.16698916])], [array([-3.63606348]), array([1.16698916])], [array([-3.63606348]), array([1.16698916])], [array([-3.63606348]), array([1.16698916])], [array([-3.63606348]), array([1.16698916])], [array([-3.63606348]), array([1.16698916])], [array([-3.63606348]), array([1.16698916])], [array([-3.63606348]), array([1.16698916])], [array([-3.63606348]), array([1.16698916])], [array([-3.63606348]), array([1.16698916])], [array([-3.63606348]), array([1.16698916])], [array([-3.63606348]), array([1.16698916])], [array([-3.63606348]), array([1.16698916])], [array([-3.63606348]), array([1.16698916])], [array([-3.63606348]), array([1.16698916])], [array([-3.63606348]), array([1.16698916])], [array([-3.63606348]), array([1.16698916])], [array([-3.63606348]), array([1.16698916])], [array([-3.63606348]), array([1.16698916])], [array([-3.63606348]), array([1.16698916])], [array([-3.63606348]), array([1.16698916])], [array([-3.63606348]), array([1.16698916])], [array([-3.63606348]), array([1.16698916])], [array([-3.63606348]), array([1.16698916])], [array([-3.63606348]), array([1.16698916])], [array([-3.63606348]), array([1.16698916])], [array([-3.63606348]), array([1.16698916])], [array([-3.63606348]), array([1.16698916])], [array([-3.63606348]), array([1.16698916])], [array([-3.63606348]), array([1.16698916])], [array([-3.63606348]), array([1.16698916])], [array([-3.63606348]), array([1.16698916])], [array([-3.63606348]), array([1.16698916])], [array([-3.63606348]), array([1.16698916])], [array([-3.63606348]), array([1.16698916])], [array([-3.63606348]), array([1.16698916])], [array([-3.63606348]), array([1.16698916])], [array([-3.63606348]), array([1.16698916])], [array([-3.63606348]), array([1.16698916])], [array([-3.63606348]), array([1.16698916])], [array([-3.63606348]), array([1.16698916])], [array([-3.63606348]), array([1.16698916])], [array([-3.63606348]), array([1.16698916])], [array([-3.63606348]), array([1.16698916])], [array([-3.63606348]), array([1.16698916])], [array([-3.63606348]), array([1.16698916])], [array([-3.63606348]), array([1.16698916])], [array([-3.63606348]), array([1.16698916])], [array([-3.63606348]), array([1.16698916])], [array([-3.63606348]), array([1.16698916])], [array([-3.63606348]), array([1.16698916])], [array([-3.63606348]), array([1.16698916])], [array([-3.63606348]), array([1.16698916])], [array([-3.63606348]), array([1.16698916])], [array([-3.63606348]), array([1.16698916])], [array([-3.63606348]), array([1.16698916])], [array([-3.63606348]), array([1.16698916])], [array([-3.63606348]), array([1.16698916])], [array([-3.63606348]), array([1.16698916])], [array([-3.63606348]), array([1.16698916])], [array([-3.63606348]), array([1.16698916])], [array([-3.63606348]), array([1.16698916])], [array([-3.63606348]), array([1.16698916])], [array([-3.63606348]), array([1.16698916])], [array([-3.63606348]), array([1.16698916])], [array([-3.63606348]), array([1.16698916])], [array([-3.63606348]), array([1.16698916])], [array([-3.63606348]), array([1.16698916])], [array([-3.63606348]), array([1.16698916])], [array([-3.63606348]), array([1.16698916])], [array([-3.63606348]), array([1.16698916])], [array([-3.63606348]), array([1.16698916])], [array([-3.63606348]), array([1.16698916])], [array([-3.63606348]), array([1.16698916])], [array([-3.63606348]), array([1.16698916])], [array([-3.63606348]), array([1.16698916])], [array([-3.63606348]), array([1.16698916])], [array([-3.63606348]), array([1.16698916])], [array([-3.63606348]), array([1.16698916])], [array([-3.63606348]), array([1.16698916])], [array([-3.63606348]), array([1.16698916])], [array([-3.63606348]), array([1.16698916])], [array([-3.63606348]), array([1.16698916])], [array([-3.63606348]), array([1.16698916])], [array([-3.63606348]), array([1.16698916])], [array([-3.63606348]), array([1.16698916])], [array([-3.63606348]), array([1.16698916])], [array([-3.63606348]), array([1.16698916])], [array([-3.63606348]), array([1.16698916])], [array([-3.63606348]), array([1.16698916])], [array([-3.63606348]), array([1.16698916])], [array([-3.63606348]), array([1.16698916])], [array([-3.63606348]), array([1.16698916])], [array([-3.63606348]), array([1.16698916])], [array([-3.63606348]), array([1.16698916])], [array([-3.63606348]), array([1.16698916])], [array([-3.63606348]), array([1.16698916])], [array([-3.63606348]), array([1.16698916])], [array([-3.63606348]), array([1.16698916])], [array([-3.63606348]), array([1.16698916])], [array([-3.63606348]), array([1.16698916])], [array([-3.63606348]), array([1.16698916])], [array([-3.63606348]), array([1.16698916])], [array([-3.63606348]), array([1.16698916])], [array([-3.63606348]), array([1.16698916])], [array([-3.63606348]), array([1.16698916])], [array([-3.63606348]), array([1.16698916])], [array([-3.63606348]), array([1.16698916])], [array([-3.63606348]), array([1.16698916])], [array([-3.63606348]), array([1.16698916])], [array([-3.63606348]), array([1.16698916])], [array([-3.63606348]), array([1.16698916])], [array([-3.63606348]), array([1.16698916])], [array([-3.63606348]), array([1.16698916])], [array([-3.63606348]), array([1.16698916])], [array([-3.63606348]), array([1.16698916])], [array([-3.63606348]), array([1.16698916])], [array([-3.63606348]), array([1.16698916])], [array([-3.63606348]), array([1.16698916])], [array([-3.63606348]), array([1.16698916])], [array([-3.63606348]), array([1.16698916])], [array([-3.63606348]), array([1.16698916])], [array([-3.63606348]), array([1.16698916])], [array([-3.63606348]), array([1.16698916])], [array([-3.63606348]), array([1.16698916])], [array([-3.63606348]), array([1.16698916])], [array([-3.63606348]), array([1.16698916])], [array([-3.63606348]), array([1.16698916])], [array([-3.63606348]), array([1.16698916])], [array([-3.63606348]), array([1.16698916])], [array([-3.63606348]), array([1.16698916])], [array([-3.63606348]), array([1.16698916])], [array([-3.63606348]), array([1.16698916])], [array([-3.63606348]), array([1.16698916])], [array([-3.63606348]), array([1.16698916])], [array([-3.63606348]), array([1.16698916])], [array([-3.63606348]), array([1.16698916])], [array([-3.63606348]), array([1.16698916])], [array([-3.63606348]), array([1.16698916])], [array([-3.63606348]), array([1.16698916])], [array([-3.63606348]), array([1.16698916])], [array([-3.63606348]), array([1.16698916])], [array([-3.63606348]), array([1.16698916])], [array([-3.63606348]), array([1.16698916])], [array([-3.63606348]), array([1.16698916])], [array([-3.63606348]), array([1.16698916])], [array([-3.63606348]), array([1.16698916])], [array([-3.63606348]), array([1.16698916])], [array([-3.63606348]), array([1.16698916])], [array([-3.63606348]), array([1.16698916])], [array([-3.63606348]), array([1.16698916])], [array([-3.63606348]), array([1.16698916])], [array([-3.63606348]), array([1.16698916])], [array([-3.63606348]), array([1.16698916])], [array([-3.63606348]), array([1.16698916])], [array([-3.63606348]), array([1.16698916])], [array([-3.63606348]), array([1.16698916])], [array([-3.63606348]), array([1.16698916])], [array([-3.63606348]), array([1.16698916])], [array([-3.63606348]), array([1.16698916])], [array([-3.63606348]), array([1.16698916])], [array([-3.63606348]), array([1.16698916])], [array([-3.63606348]), array([1.16698916])], [array([-3.63606348]), array([1.16698916])], [array([-3.63606348]), array([1.16698916])], [array([-3.63606348]), array([1.16698916])], [array([-3.63606348]), array([1.16698916])], [array([-3.63606348]), array([1.16698916])], [array([-3.63606348]), array([1.16698916])], [array([-3.63606348]), array([1.16698916])], [array([-3.63606348]), array([1.16698916])], [array([-3.63606348]), array([1.16698916])], [array([-3.63606348]), array([1.16698916])], [array([-3.63606348]), array([1.16698916])], [array([-3.63606348]), array([1.16698916])], [array([-3.63606348]), array([1.16698916])], [array([-3.63606348]), array([1.16698916])], [array([-3.63606348]), array([1.16698916])], [array([-3.63606348]), array([1.16698916])], [array([-3.63606348]), array([1.16698916])], [array([-3.63606348]), array([1.16698916])], [array([-3.63606348]), array([1.16698916])], [array([-3.63606348]), array([1.16698916])], [array([-3.63606348]), array([1.16698916])], [array([-3.63606348]), array([1.16698916])], [array([-3.63606348]), array([1.16698916])], [array([-3.63606348]), array([1.16698916])], [array([-3.63606348]), array([1.16698916])], [array([-3.63606348]), array([1.16698916])], [array([-3.63606348]), array([1.16698916])], [array([-3.63606348]), array([1.16698916])], [array([-3.63606348]), array([1.16698916])], [array([-3.63606348]), array([1.16698916])], [array([-3.63606348]), array([1.16698916])], [array([-3.63606348]), array([1.16698916])], [array([-3.63606348]), array([1.16698916])], [array([-3.63606348]), array([1.16698916])], [array([-3.63606348]), array([1.16698916])], [array([-3.63606348]), array([1.16698916])], [array([-3.63606348]), array([1.16698916])], [array([-3.63606348]), array([1.16698916])], [array([-3.63606348]), array([1.16698916])], [array([-3.63606348]), array([1.16698916])], [array([-3.63606348]), array([1.16698916])], [array([-3.63606348]), array([1.16698916])], [array([-3.63606348]), array([1.16698916])], [array([-3.63606348]), array([1.16698916])], [array([-3.63606348]), array([1.16698916])], [array([-3.63606348]), array([1.16698916])], [array([-3.63606348]), array([1.16698916])], [array([-3.63606348]), array([1.16698916])], [array([-3.63606348]), array([1.16698916])], [array([-3.63606348]), array([1.16698916])], [array([-3.63606348]), array([1.16698916])], [array([-3.63606348]), array([1.16698916])], [array([-3.63606348]), array([1.16698916])], [array([-3.63606348]), array([1.16698916])], [array([-3.63606348]), array([1.16698916])], [array([-3.63606348]), array([1.16698916])], [array([-3.63606348]), array([1.16698916])], [array([-3.63606348]), array([1.16698916])], [array([-3.63606348]), array([1.16698916])], [array([-3.63606348]), array([1.16698916])], [array([-3.63606348]), array([1.16698916])], [array([-3.63606348]), array([1.16698916])], [array([-3.63606348]), array([1.16698916])], [array([-3.63606348]), array([1.16698916])], [array([-3.63606348]), array([1.16698916])], [array([-3.63606348]), array([1.16698916])], [array([-3.63606348]), array([1.16698916])], [array([-3.63606348]), array([1.16698916])], [array([-3.63606348]), array([1.16698916])], [array([-3.63606348]), array([1.16698916])], [array([-3.63606348]), array([1.16698916])], [array([-3.63606348]), array([1.16698916])], [array([-3.63606348]), array([1.16698916])], [array([-3.63606348]), array([1.16698916])], [array([-3.63606348]), array([1.16698916])], [array([-3.63606348]), array([1.16698916])], [array([-3.63606348]), array([1.16698916])], [array([-3.63606348]), array([1.16698916])], [array([-3.63606348]), array([1.16698916])], [array([-3.63606348]), array([1.16698916])], [array([-3.63606348]), array([1.16698916])], [array([-3.63606348]), array([1.16698916])], [array([-3.63606348]), array([1.16698916])], [array([-3.63606348]), array([1.16698916])], [array([-3.63606348]), array([1.16698916])], [array([-3.63606348]), array([1.16698916])], [array([-3.63606348]), array([1.16698916])], [array([-3.63606348]), array([1.16698916])], [array([-3.63606348]), array([1.16698916])], [array([-3.63606348]), array([1.16698916])], [array([-3.63606348]), array([1.16698916])], [array([-3.63606348]), array([1.16698916])], [array([-3.63606348]), array([1.16698916])], [array([-3.63606348]), array([1.16698916])], [array([-3.63606348]), array([1.16698916])], [array([-3.63606348]), array([1.16698916])], [array([-3.63606348]), array([1.16698916])], [array([-3.63606348]), array([1.16698916])], [array([-3.63606348]), array([1.16698916])], [array([-3.63606348]), array([1.16698916])], [array([-3.63606348]), array([1.16698916])], [array([-3.63606348]), array([1.16698916])], [array([-3.63606348]), array([1.16698916])], [array([-3.63606348]), array([1.16698916])], [array([-3.63606348]), array([1.16698916])], [array([-3.63606348]), array([1.16698916])], [array([-3.63606348]), array([1.16698916])], [array([-3.63606348]), array([1.16698916])], [array([-3.63606348]), array([1.16698916])], [array([-3.63606348]), array([1.16698916])], [array([-3.63606348]), array([1.16698916])], [array([-3.63606348]), array([1.16698916])], [array([-3.63606348]), array([1.16698916])], [array([-3.63606348]), array([1.16698916])], [array([-3.63606348]), array([1.16698916])], [array([-3.63606348]), array([1.16698916])], [array([-3.63606348]), array([1.16698916])], [array([-3.63606348]), array([1.16698916])], [array([-3.63606348]), array([1.16698916])], [array([-3.63606348]), array([1.16698916])], [array([-3.63606348]), array([1.16698916])], [array([-3.63606348]), array([1.16698916])], [array([-3.63606348]), array([1.16698916])], [array([-3.63606348]), array([1.16698916])], [array([-3.63606348]), array([1.16698916])], [array([-3.63606348]), array([1.16698916])], [array([-3.63606348]), array([1.16698916])], [array([-3.63606348]), array([1.16698916])], [array([-3.63606348]), array([1.16698916])], [array([-3.63606348]), array([1.16698916])], [array([-3.63606348]), array([1.16698916])], [array([-3.63606348]), array([1.16698916])], [array([-3.63606348]), array([1.16698916])], [array([-3.63606348]), array([1.16698916])], [array([-3.63606348]), array([1.16698916])], [array([-3.63606348]), array([1.16698916])], [array([-3.63606348]), array([1.16698916])], [array([-3.63606348]), array([1.16698916])], [array([-3.63606348]), array([1.16698916])], [array([-3.63606348]), array([1.16698916])], [array([-3.63606348]), array([1.16698916])], [array([-3.63606348]), array([1.16698916])], [array([-3.63606348]), array([1.16698916])], [array([-3.63606348]), array([1.16698916])], [array([-3.63606348]), array([1.16698916])], [array([-3.63606348]), array([1.16698916])], [array([-3.63606348]), array([1.16698916])], [array([-3.63606348]), array([1.16698916])], [array([-3.63606348]), array([1.16698916])], [array([-3.63606348]), array([1.16698916])], [array([-3.63606348]), array([1.16698916])], [array([-3.63606348]), array([1.16698916])], [array([-3.63606348]), array([1.16698916])], [array([-3.63606348]), array([1.16698916])], [array([-3.63606348]), array([1.16698916])], [array([-3.63606348]), array([1.16698916])], [array([-3.63606348]), array([1.16698916])], [array([-3.63606348]), array([1.16698916])], [array([-3.63606348]), array([1.16698916])], [array([-3.63606348]), array([1.16698916])], [array([-3.63606348]), array([1.16698916])], [array([-3.63606348]), array([1.16698916])], [array([-3.63606348]), array([1.16698916])], [array([-3.63606348]), array([1.16698916])], [array([-3.63606348]), array([1.16698916])], [array([-3.63606348]), array([1.16698916])], [array([-3.63606348]), array([1.16698916])], [array([-3.63606348]), array([1.16698916])], [array([-3.63606348]), array([1.16698916])], [array([-3.63606348]), array([1.16698916])], [array([-3.63606348]), array([1.16698916])], [array([-3.63606348]), array([1.16698916])], [array([-3.63606348]), array([1.16698916])], [array([-3.63606348]), array([1.16698916])], [array([-3.63606348]), array([1.16698916])], [array([-3.63606348]), array([1.16698916])], [array([-3.63606348]), array([1.16698916])], [array([-3.63606348]), array([1.16698916])], [array([-3.63606348]), array([1.16698916])], [array([-3.63606348]), array([1.16698916])], [array([-3.63606348]), array([1.16698916])], [array([-3.63606348]), array([1.16698916])], [array([-3.63606348]), array([1.16698916])], [array([-3.63606348]), array([1.16698916])], [array([-3.63606348]), array([1.16698916])], [array([-3.63606348]), array([1.16698916])], [array([-3.63606348]), array([1.16698916])], [array([-3.63606348]), array([1.16698916])], [array([-3.63606348]), array([1.16698916])], [array([-3.63606348]), array([1.16698916])], [array([-3.63606348]), array([1.16698916])], [array([-3.63606348]), array([1.16698916])], [array([-3.63606348]), array([1.16698916])], [array([-3.63606348]), array([1.16698916])], [array([-3.63606348]), array([1.16698916])], [array([-3.63606348]), array([1.16698916])], [array([-3.63606348]), array([1.16698916])], [array([-3.63606348]), array([1.16698916])], [array([-3.63606348]), array([1.16698916])], [array([-3.63606348]), array([1.16698916])], [array([-3.63606348]), array([1.16698916])], [array([-3.63606348]), array([1.16698916])], [array([-3.63606348]), array([1.16698916])], [array([-3.63606348]), array([1.16698916])], [array([-3.63606348]), array([1.16698916])], [array([-3.63606348]), array([1.16698916])], [array([-3.63606348]), array([1.16698916])], [array([-3.63606348]), array([1.16698916])], [array([-3.63606348]), array([1.16698916])], [array([-3.63606348]), array([1.16698916])], [array([-3.63606348]), array([1.16698916])], [array([-3.63606348]), array([1.16698916])], [array([-3.63606348]), array([1.16698916])], [array([-3.63606348]), array([1.16698916])], [array([-3.63606348]), array([1.16698916])], [array([-3.63606348]), array([1.16698916])], [array([-3.63606348]), array([1.16698916])], [array([-3.63606348]), array([1.16698916])], [array([-3.63606348]), array([1.16698916])], [array([-3.63606348]), array([1.16698916])], [array([-3.63606348]), array([1.16698916])], [array([-3.63606348]), array([1.16698916])], [array([-3.63606348]), array([1.16698916])], [array([-3.63606348]), array([1.16698916])], [array([-3.63606348]), array([1.16698916])], [array([-3.63606348]), array([1.16698916])], [array([-3.63606348]), array([1.16698916])], [array([-3.63606348]), array([1.16698916])], [array([-3.63606348]), array([1.16698916])], [array([-3.63606348]), array([1.16698916])], [array([-3.63606348]), array([1.16698916])], [array([-3.63606348]), array([1.16698916])], [array([-3.63606348]), array([1.16698916])], [array([-3.63606348]), array([1.16698916])], [array([-3.63606348]), array([1.16698916])], [array([-3.63606348]), array([1.16698916])], [array([-3.63606348]), array([1.16698916])], [array([-3.63606348]), array([1.16698916])], [array([-3.63606348]), array([1.16698916])], [array([-3.63606348]), array([1.16698916])], [array([-3.63606348]), array([1.16698916])], [array([-3.63606348]), array([1.16698916])], [array([-3.63606348]), array([1.16698916])], [array([-3.63606348]), array([1.16698916])], [array([-3.63606348]), array([1.16698916])], [array([-3.63606348]), array([1.16698916])], [array([-3.63606348]), array([1.16698916])], [array([-3.63606348]), array([1.16698916])], [array([-3.63606348]), array([1.16698916])], [array([-3.63606348]), array([1.16698916])], [array([-3.63606348]), array([1.16698916])], [array([-3.63606348]), array([1.16698916])], [array([-3.63606348]), array([1.16698916])], [array([-3.63606348]), array([1.16698916])], [array([-3.63606348]), array([1.16698916])], [array([-3.63606348]), array([1.16698916])], [array([-3.63606348]), array([1.16698916])], [array([-3.63606348]), array([1.16698916])], [array([-3.63606348]), array([1.16698916])], [array([-3.63606348]), array([1.16698916])], [array([-3.63606348]), array([1.16698916])], [array([-3.63606348]), array([1.16698916])], [array([-3.63606348]), array([1.16698916])], [array([-3.63606348]), array([1.16698916])], [array([-3.63606348]), array([1.16698916])], [array([-3.63606348]), array([1.16698916])], [array([-3.63606348]), array([1.16698916])], [array([-3.63606348]), array([1.16698916])], [array([-3.63606348]), array([1.16698916])], [array([-3.63606348]), array([1.16698916])], [array([-3.63606348]), array([1.16698916])], [array([-3.63606348]), array([1.16698916])], [array([-3.63606348]), array([1.16698916])], [array([-3.63606348]), array([1.16698916])], [array([-3.63606348]), array([1.16698916])], [array([-3.63606348]), array([1.16698916])], [array([-3.63606348]), array([1.16698916])], [array([-3.63606348]), array([1.16698916])], [array([-3.63606348]), array([1.16698916])], [array([-3.63606348]), array([1.16698916])], [array([-3.63606348]), array([1.16698916])], [array([-3.63606348]), array([1.16698916])], [array([-3.63606348]), array([1.16698916])], [array([-3.63606348]), array([1.16698916])], [array([-3.63606348]), array([1.16698916])], [array([-3.63606348]), array([1.16698916])], [array([-3.63606348]), array([1.16698916])], [array([-3.63606348]), array([1.16698916])], [array([-3.63606348]), array([1.16698916])], [array([-3.63606348]), array([1.16698916])], [array([-3.63606348]), array([1.16698916])], [array([-3.63606348]), array([1.16698916])], [array([-3.63606348]), array([1.16698916])], [array([-3.63606348]), array([1.16698916])], [array([-3.63606348]), array([1.16698916])], [array([-3.63606348]), array([1.16698916])], [array([-3.63606348]), array([1.16698916])], [array([-3.63606348]), array([1.16698916])], [array([-3.63606348]), array([1.16698916])], [array([-3.63606348]), array([1.16698916])], [array([-3.63606348]), array([1.16698916])], [array([-3.63606348]), array([1.16698916])], [array([-3.63606348]), array([1.16698916])], [array([-3.63606348]), array([1.16698916])], [array([-3.63606348]), array([1.16698916])], [array([-3.63606348]), array([1.16698916])], [array([-3.63606348]), array([1.16698916])], [array([-3.63606348]), array([1.16698916])], [array([-3.63606348]), array([1.16698916])], [array([-3.63606348]), array([1.16698916])], [array([-3.63606348]), array([1.16698916])], [array([-3.63606348]), array([1.16698916])], [array([-3.63606348]), array([1.16698916])], [array([-3.63606348]), array([1.16698916])], [array([-3.63606348]), array([1.16698916])], [array([-3.63606348]), array([1.16698916])], [array([-3.63606348]), array([1.16698916])], [array([-3.63606348]), array([1.16698916])], [array([-3.63606348]), array([1.16698916])], [array([-3.63606348]), array([1.16698916])], [array([-3.63606348]), array([1.16698916])], [array([-3.63606348]), array([1.16698916])], [array([-3.63606348]), array([1.16698916])], [array([-3.63606348]), array([1.16698916])], [array([-3.63606348]), array([1.16698916])], [array([-3.63606348]), array([1.16698916])], [array([-3.63606348]), array([1.16698916])], [array([-3.63606348]), array([1.16698916])], [array([-3.63606348]), array([1.16698916])], [array([-3.63606348]), array([1.16698916])], [array([-3.63606348]), array([1.16698916])], [array([-3.63606348]), array([1.16698916])], [array([-3.63606348]), array([1.16698916])], [array([-3.63606348]), array([1.16698916])], [array([-3.63606348]), array([1.16698916])], [array([-3.63606348]), array([1.16698916])], [array([-3.63606348]), array([1.16698916])], [array([-3.63606348]), array([1.16698916])], [array([-3.63606348]), array([1.16698916])], [array([-3.63606348]), array([1.16698916])], [array([-3.63606348]), array([1.16698916])], [array([-3.63606348]), array([1.16698916])], [array([-3.63606348]), array([1.16698916])], [array([-3.63606348]), array([1.16698916])], [array([-3.63606348]), array([1.16698916])], [array([-3.63606348]), array([1.16698916])], [array([-3.63606348]), array([1.16698916])], [array([-3.63606348]), array([1.16698916])], [array([-3.63606348]), array([1.16698916])], [array([-3.63606348]), array([1.16698916])], [array([-3.63606348]), array([1.16698916])], [array([-3.63606348]), array([1.16698916])], [array([-3.63606348]), array([1.16698916])], [array([-3.63606348]), array([1.16698916])], [array([-3.63606348]), array([1.16698916])], [array([-3.63606348]), array([1.16698916])], [array([-3.63606348]), array([1.16698916])], [array([-3.63606348]), array([1.16698916])], [array([-3.63606348]), array([1.16698916])], [array([-3.63606348]), array([1.16698916])], [array([-3.63606348]), array([1.16698916])], [array([-3.63606348]), array([1.16698916])], [array([-3.63606348]), array([1.16698916])], [array([-3.63606348]), array([1.16698916])], [array([-3.63606348]), array([1.16698916])], [array([-3.63606348]), array([1.16698916])], [array([-3.63606348]), array([1.16698916])], [array([-3.63606348]), array([1.16698916])], [array([-3.63606348]), array([1.16698916])], [array([-3.63606348]), array([1.16698916])], [array([-3.63606348]), array([1.16698916])], [array([-3.63606348]), array([1.16698916])], [array([-3.63606348]), array([1.16698916])], [array([-3.63606348]), array([1.16698916])], [array([-3.63606348]), array([1.16698916])], [array([-3.63606348]), array([1.16698916])], [array([-3.63606348]), array([1.16698916])], [array([-3.63606348]), array([1.16698916])], [array([-3.63606348]), array([1.16698916])], [array([-3.63606348]), array([1.16698916])], [array([-3.63606348]), array([1.16698916])], [array([-3.63606348]), array([1.16698916])], [array([-3.63606348]), array([1.16698916])], [array([-3.63606348]), array([1.16698916])], [array([-3.63606348]), array([1.16698916])], [array([-3.63606348]), array([1.16698916])], [array([-3.63606348]), array([1.16698916])], [array([-3.63606348]), array([1.16698916])], [array([-3.63606348]), array([1.16698916])], [array([-3.63606348]), array([1.16698916])], [array([-3.63606348]), array([1.16698916])], [array([-3.63606348]), array([1.16698916])], [array([-3.63606348]), array([1.16698916])], [array([-3.63606348]), array([1.16698916])], [array([-3.63606348]), array([1.16698916])], [array([-3.63606348]), array([1.16698916])], [array([-3.63606348]), array([1.16698916])], [array([-3.63606348]), array([1.16698916])], [array([-3.63606348]), array([1.16698916])], [array([-3.63606348]), array([1.16698916])], [array([-3.63606348]), array([1.16698916])], [array([-3.63606348]), array([1.16698916])], [array([-3.63606348]), array([1.16698916])], [array([-3.63606348]), array([1.16698916])], [array([-3.63606348]), array([1.16698916])], [array([-3.63606348]), array([1.16698916])], [array([-3.63606348]), array([1.16698916])], [array([-3.63606348]), array([1.16698916])], [array([-3.63606348]), array([1.16698916])], [array([-3.63606348]), array([1.16698916])], [array([-3.63606348]), array([1.16698916])], [array([-3.63606348]), array([1.16698916])], [array([-3.63606348]), array([1.16698916])], [array([-3.63606348]), array([1.16698916])], [array([-3.63606348]), array([1.16698916])], [array([-3.63606348]), array([1.16698916])], [array([-3.63606348]), array([1.16698916])], [array([-3.63606348]), array([1.16698916])], [array([-3.63606348]), array([1.16698916])], [array([-3.63606348]), array([1.16698916])], [array([-3.63606348]), array([1.16698916])], [array([-3.63606348]), array([1.16698916])], [array([-3.63606348]), array([1.16698916])], [array([-3.63606348]), array([1.16698916])], [array([-3.63606348]), array([1.16698916])], [array([-3.63606348]), array([1.16698916])], [array([-3.63606348]), array([1.16698916])], [array([-3.63606348]), array([1.16698916])], [array([-3.63606348]), array([1.16698916])], [array([-3.63606348]), array([1.16698916])], [array([-3.63606348]), array([1.16698916])], [array([-3.63606348]), array([1.16698916])], [array([-3.63606348]), array([1.16698916])], [array([-3.63606348]), array([1.16698916])], [array([-3.63606348]), array([1.16698916])], [array([-3.63606348]), array([1.16698916])], [array([-3.63606348]), array([1.16698916])], [array([-3.63606348]), array([1.16698916])], [array([-3.63606348]), array([1.16698916])], [array([-3.63606348]), array([1.16698916])], [array([-3.63606348]), array([1.16698916])], [array([-3.63606348]), array([1.16698916])], [array([-3.63606348]), array([1.16698916])], [array([-3.63606348]), array([1.16698916])], [array([-3.63606348]), array([1.16698916])], [array([-3.63606348]), array([1.16698916])], [array([-3.63606348]), array([1.16698916])], [array([-3.63606348]), array([1.16698916])], [array([-3.63606348]), array([1.16698916])], [array([-3.63606348]), array([1.16698916])], [array([-3.63606348]), array([1.16698916])], [array([-3.63606348]), array([1.16698916])], [array([-3.63606348]), array([1.16698916])], [array([-3.63606348]), array([1.16698916])], [array([-3.63606348]), array([1.16698916])], [array([-3.63606348]), array([1.16698916])], [array([-3.63606348]), array([1.16698916])], [array([-3.63606348]), array([1.16698916])], [array([-3.63606348]), array([1.16698916])], [array([-3.63606348]), array([1.16698916])], [array([-3.63606348]), array([1.16698916])], [array([-3.63606348]), array([1.16698916])], [array([-3.63606348]), array([1.16698916])], [array([-3.63606348]), array([1.16698916])], [array([-3.63606348]), array([1.16698916])], [array([-3.63606348]), array([1.16698916])], [array([-3.63606348]), array([1.16698916])], [array([-3.63606348]), array([1.16698916])], [array([-3.63606348]), array([1.16698916])], [array([-3.63606348]), array([1.16698916])], [array([-3.63606348]), array([1.16698916])], [array([-3.63606348]), array([1.16698916])], [array([-3.63606348]), array([1.16698916])], [array([-3.63606348]), array([1.16698916])], [array([-3.63606348]), array([1.16698916])], [array([-3.63606348]), array([1.16698916])], [array([-3.63606348]), array([1.16698916])], [array([-3.63606348]), array([1.16698916])], [array([-3.63606348]), array([1.16698916])], [array([-3.63606348]), array([1.16698916])], [array([-3.63606348]), array([1.16698916])], [array([-3.63606348]), array([1.16698916])], [array([-3.63606348]), array([1.16698916])], [array([-3.63606348]), array([1.16698916])], [array([-3.63606348]), array([1.16698916])], [array([-3.63606348]), array([1.16698916])], [array([-3.63606348]), array([1.16698916])], [array([-3.63606348]), array([1.16698916])], [array([-3.63606348]), array([1.16698916])], [array([-3.63606348]), array([1.16698916])], [array([-3.63606348]), array([1.16698916])], [array([-3.63606348]), array([1.16698916])], [array([-3.63606348]), array([1.16698916])], [array([-3.63606348]), array([1.16698916])], [array([-3.63606348]), array([1.16698916])], [array([-3.63606348]), array([1.16698916])], [array([-3.63606348]), array([1.16698916])], [array([-3.63606348]), array([1.16698916])], [array([-3.63606348]), array([1.16698916])], [array([-3.63606348]), array([1.16698916])], [array([-3.63606348]), array([1.16698916])], [array([-3.63606348]), array([1.16698916])], [array([-3.63606348]), array([1.16698916])], [array([-3.63606348]), array([1.16698916])], [array([-3.63606348]), array([1.16698916])], [array([-3.63606348]), array([1.16698916])], [array([-3.63606348]), array([1.16698916])], [array([-3.63606348]), array([1.16698916])], [array([-3.63606348]), array([1.16698916])], [array([-3.63606348]), array([1.16698916])], [array([-3.63606348]), array([1.16698916])], [array([-3.63606348]), array([1.16698916])], [array([-3.63606348]), array([1.16698916])], [array([-3.63606348]), array([1.16698916])], [array([-3.63606348]), array([1.16698916])], [array([-3.63606348]), array([1.16698916])], [array([-3.63606348]), array([1.16698916])], [array([-3.63606348]), array([1.16698916])], [array([-3.63606348]), array([1.16698916])], [array([-3.63606348]), array([1.16698916])], [array([-3.63606348]), array([1.16698916])], [array([-3.63606348]), array([1.16698916])], [array([-3.63606348]), array([1.16698916])], [array([-3.63606348]), array([1.16698916])], [array([-3.63606348]), array([1.16698916])], [array([-3.63606348]), array([1.16698916])], [array([-3.63606348]), array([1.16698916])], [array([-3.63606348]), array([1.16698916])], [array([-3.63606348]), array([1.16698916])], [array([-3.63606348]), array([1.16698916])], [array([-3.63606348]), array([1.16698916])], [array([-3.63606348]), array([1.16698916])], [array([-3.63606348]), array([1.16698916])], [array([-3.63606348]), array([1.16698916])], [array([-3.63606348]), array([1.16698916])], [array([-3.63606348]), array([1.16698916])], [array([-3.63606348]), array([1.16698916])], [array([-3.63606348]), array([1.16698916])], [array([-3.63606348]), array([1.16698916])], [array([-3.63606348]), array([1.16698916])], [array([-3.63606348]), array([1.16698916])], [array([-3.63606348]), array([1.16698916])], [array([-3.63606348]), array([1.16698916])], [array([-3.63606348]), array([1.16698916])], [array([-3.63606348]), array([1.16698916])], [array([-3.63606348]), array([1.16698916])], [array([-3.63606348]), array([1.16698916])], [array([-3.63606348]), array([1.16698916])], [array([-3.63606348]), array([1.16698916])], [array([-3.63606348]), array([1.16698916])], [array([-3.63606348]), array([1.16698916])], [array([-3.63606348]), array([1.16698916])], [array([-3.63606348]), array([1.16698916])], [array([-3.63606348]), array([1.16698916])], [array([-3.63606348]), array([1.16698916])], [array([-3.63606348]), array([1.16698916])], [array([-3.63606348]), array([1.16698916])], [array([-3.63606348]), array([1.16698916])], [array([-3.63606348]), array([1.16698916])], [array([-3.63606348]), array([1.16698916])], [array([-3.63606348]), array([1.16698916])], [array([-3.63606348]), array([1.16698916])], [array([-3.63606348]), array([1.16698916])], [array([-3.63606348]), array([1.16698916])], [array([-3.63606348]), array([1.16698916])], [array([-3.63606348]), array([1.16698916])], [array([-3.63606348]), array([1.16698916])], [array([-3.63606348]), array([1.16698916])], [array([-3.63606348]), array([1.16698916])], [array([-3.63606348]), array([1.16698916])], [array([-3.63606348]), array([1.16698916])], [array([-3.63606348]), array([1.16698916])], [array([-3.63606348]), array([1.16698916])], [array([-3.63606348]), array([1.16698916])], [array([-3.63606348]), array([1.16698916])], [array([-3.63606348]), array([1.16698916])], [array([-3.63606348]), array([1.16698916])], [array([-3.63606348]), array([1.16698916])], [array([-3.63606348]), array([1.16698916])], [array([-3.63606348]), array([1.16698916])], [array([-3.63606348]), array([1.16698916])], [array([-3.63606348]), array([1.16698916])], [array([-3.63606348]), array([1.16698916])], [array([-3.63606348]), array([1.16698916])], [array([-3.63606348]), array([1.16698916])], [array([-3.63606348]), array([1.16698916])], [array([-3.63606348]), array([1.16698916])], [array([-3.63606348]), array([1.16698916])], [array([-3.63606348]), array([1.16698916])], [array([-3.63606348]), array([1.16698916])], [array([-3.63606348]), array([1.16698916])], [array([-3.63606348]), array([1.16698916])], [array([-3.63606348]), array([1.16698916])], [array([-3.63606348]), array([1.16698916])], [array([-3.63606348]), array([1.16698916])], [array([-3.63606348]), array([1.16698916])], [array([-3.63606348]), array([1.16698916])], [array([-3.63606348]), array([1.16698916])], [array([-3.63606348]), array([1.16698916])], [array([-3.63606348]), array([1.16698916])], [array([-3.63606348]), array([1.16698916])], [array([-3.63606348]), array([1.16698916])], [array([-3.63606348]), array([1.16698916])], [array([-3.63606348]), array([1.16698916])], [array([-3.63606348]), array([1.16698916])], [array([-3.63606348]), array([1.16698916])], [array([-3.63606348]), array([1.16698916])], [array([-3.63606348]), array([1.16698916])], [array([-3.63606348]), array([1.16698916])], [array([-3.63606348]), array([1.16698916])], [array([-3.63606348]), array([1.16698916])], [array([-3.63606348]), array([1.16698916])], [array([-3.63606348]), array([1.16698916])], [array([-3.63606348]), array([1.16698916])], [array([-3.63606348]), array([1.16698916])], [array([-3.63606348]), array([1.16698916])], [array([-3.63606348]), array([1.16698916])], [array([-3.63606348]), array([1.16698916])], [array([-3.63606348]), array([1.16698916])], [array([-3.63606348]), array([1.16698916])], [array([-3.63606348]), array([1.16698916])], [array([-3.63606348]), array([1.16698916])], [array([-3.63606348]), array([1.16698916])], [array([-3.63606348]), array([1.16698916])], [array([-3.63606348]), array([1.16698916])], [array([-3.63606348]), array([1.16698916])], [array([-3.63606348]), array([1.16698916])], [array([-3.63606348]), array([1.16698916])], [array([-3.63606348]), array([1.16698916])], [array([-3.63606348]), array([1.16698916])], [array([-3.63606348]), array([1.16698916])], [array([-3.63606348]), array([1.16698916])], [array([-3.63606348]), array([1.16698916])], [array([-3.63606348]), array([1.16698916])], [array([-3.63606348]), array([1.16698916])], [array([-3.63606348]), array([1.16698916])], [array([-3.63606348]), array([1.16698916])], [array([-3.63606348]), array([1.16698916])], [array([-3.63606348]), array([1.16698916])], [array([-3.63606348]), array([1.16698916])], [array([-3.63606348]), array([1.16698916])], [array([-3.63606348]), array([1.16698916])], [array([-3.63606348]), array([1.16698916])], [array([-3.63606348]), array([1.16698916])], [array([-3.63606348]), array([1.16698916])], [array([-3.63606348]), array([1.16698916])], [array([-3.63606348]), array([1.16698916])], [array([-3.63606348]), array([1.16698916])], [array([-3.63606348]), array([1.16698916])], [array([-3.63606348]), array([1.16698916])], [array([-3.63606348]), array([1.16698916])], [array([-3.63606348]), array([1.16698916])], [array([-3.63606348]), array([1.16698916])], [array([-3.63606348]), array([1.16698916])], [array([-3.63606348]), array([1.16698916])], [array([-3.63606348]), array([1.16698916])]] [32.07273387745567, 6.79372769071752, 5.934595771472088, 5.9014281222321, 5.895503091000776, 5.890362332557061, 5.885236760125834, 5.880124264360997, 5.875029148293898, 5.869952310601328, 5.864893867445507, 5.859853785820321, 5.854832005275343, 5.849828460498954, 5.84484308548114, 5.8398758142793525, 5.834926581158782, 5.8299953206174955, 5.825081967390356, 5.82018645644902, 5.815308723001257, 5.810448702490114, 5.805606330593067, 5.800781543221173, 5.795974276518222, 5.791184466859885, 5.786412050852886, 5.781656965334148, 5.776919147369963, 5.772198534255166, 5.767495063512293, 5.762808672890763, 5.758139300366049, 5.753486884138859, 5.748851362634318, 5.744232674501158, 5.739630758610892, 5.735045554057024, 5.730477000154224, 5.725925036437542, 5.721389602661594, 5.716870638799773, 5.712368085043449, 5.707881881801186, 5.703411969697942, 5.698958289574289, 5.694520782485634, 5.690099389701429, 5.685694052704406, 5.681304713189791, 5.676931313064537, 5.6725737944465555, 5.668232099663954, 5.663906171254266, 5.659595951963692, 5.655301384746347, 5.651022412763499, 5.64675897938282, 5.642511028177637, 5.6382785029261795, 5.634061347610848, 5.629859506417457, 5.625672923734508, 5.621501544152448, 5.6173453124629384, 5.613204173658122, 5.609078072929899, 5.604966955669196, 5.6008707674652465, 5.596789454104876, 5.592722961571767, 5.588671236045771, 5.584634223902171, 5.580611871710985, 5.576604126236256, 5.572610934435348, 5.568632243458242, 5.564668000646839, 5.5607181535342605, 5.556782649844159, 5.552861437490017, 5.54895446457447, 5.545061679388606, 5.541183030411293, 5.53731846630849, 5.5334679359325705, 5.529631388321644, 5.525808772698885, 5.522000038471854, 5.518205135231836, 5.514424012753168, 5.510656620992575, 5.506902910088508, 5.5031628303604885, 5.499436332308443, 5.495723366612053, 5.492023884130103, 5.488337835899824, 5.484665173136254, 5.4810058472315895, 5.477359809754533, 5.4737270124496655, 5.470107407236803, 5.466500946210358, 5.462907581638704, 5.459327265963547, 5.4557599517993, 5.452205591932449, 5.448664139320928, 5.445135547093503, 5.441619768549143, 5.438116757156411, 5.434626466552841, 5.431148850544329, 5.427683863104516, 5.424231458374186, 5.420791590660657, 5.417364214437169, 5.4139492843422925, 5.410546755179319, 5.40715658191567, 5.403778719682296, 5.4004131237730855, 5.397059749644271, 5.39371855291384, 5.390389489360951, 5.387072514925344, 5.383767585706757, 5.380474657964347, 5.377193688116119, 5.373924632738328, 5.370667448564926, 5.367422092486978, 5.364188521552097, 5.36096669296387, 5.357756564081294, 5.35455809241821, 5.351371235642751, 5.348195951576765, 5.345032198195271, 5.341879933625889, 5.338739116148303, 5.335609704193694, 5.332491656344196, 5.329384931332353, 5.3262894880405565, 5.32320528550052, 5.320132282892726, 5.3170704395458905, 5.31401971493642, 5.310980068687879, 5.307951460570455, 5.304933850500423, 5.301927198539621, 5.298931464894917, 5.2959466099176815, 5.292972594103266, 5.290009378090477, 5.287056922661059, 5.284115188739172, 5.281184137390876, 5.278263729823615, 5.275353927385702, 5.272454691565812, 5.269565983992469, 5.266687766433537, 5.263820000795716, 5.260962649124039, 5.258115673601367, 5.255279036547891, 5.252452700420629, 5.249636627812935, 5.246830781454001, 5.24403512420836, 5.241249619075405, 5.238474229188885, 5.235708917816429, 5.232953648359056, 5.230208384350688, 5.227473089457669, 5.224747727478285, 5.222032262342288, 5.219326658110409, 5.216630878973893, 5.2139448892540186, 5.211268653401629, 5.208602135996657, 5.205945301747661, 5.203298115491359, 5.200660542192158, 5.1980325469416915, 5.19541409495836, 5.192805151586872, 5.190205682297776, 5.18761565268702, 5.185035028475479, 5.182463775508509, 5.179901859755499, 5.177349247309413, 5.174805904386346, 5.172271797325075, 5.169746892586612, 5.167231156753766, 5.164724556530694, 5.162227058742463, 5.159738630334613, 5.157259238372716, 5.15478885004194, 5.152327432646621, 5.149874953609821, 5.147431380472904, 5.144996680895101, 5.142570822653091, 5.140153773640562, 5.137745501867795, 5.135345975461238, 5.132955162663082, 5.130573031830848, 5.12819955143696, 5.125834690068329, 5.12347841642594, 5.12113069932444, 5.11879150769172, 5.116460810568502, 5.114138577107941, 5.111824776575203, 5.109519378347064, 5.107222351911509, 5.1049336668673195, 5.102653292923677, 5.100381199899764, 5.098117357724355, 5.095861736435432, 5.093614306179772, 5.091375037212567, 5.0891438998970235, 5.086920864703969, 5.0847059022114625, 5.082498983104407, 5.080300078174157, 5.07810915831814, 5.075926194539462, 5.073751157946529, 5.071584019752664, 5.069424751275725, 5.067273323937726, 5.06512970926446, 5.062993878885118, 5.060865804531919, 5.058745458039734, 5.0566328113457075, 5.054527836488898, 5.0524305056098955, 5.050340790950461, 5.048258664853154, 5.046184099760974, 5.044117068216984, 5.042057542863958, 5.040005496444014, 5.037960901798252, 5.0359237318664, 5.0338939596864485, 5.0318715583942994, 5.029856501223412, 5.027848761504435, 5.025848312664875, 5.02385512822873, 5.021869181816138, 5.019890447143039, 5.017918898020817, 5.015954508355957, 5.013997252149701, 5.012047103497703, 5.010104036589681, 5.008168025709088, 5.006239045232758, 5.004317069630573, 5.002402073465126, 5.000494031391385, 4.99859291815635, 4.996698708598732, 4.994811377648606, 4.992930900327088, 4.9910572517460015, 4.98919040710755, 4.987330341703986, 4.985477030917284, 4.983630450218821, 4.981790575169042, 4.979957381417144, 4.978130844700749, 4.976310940845585, 4.974497645765172, 4.972690935460492, 4.970890786019675, 4.969097173617688, 4.967310074516015, 4.9655294650623425, 4.963755321690252, 4.961987620918898, 4.960226339352705, 4.958471453681058, 4.956722940677989, 4.954980777201875, 4.953244940195126, 4.951515406683887, 4.949792153777727, 4.948075158669341, 4.946364398634243, 4.944659851030472, 4.942961493298285, 4.94126930295987, 4.939583257619027, 4.9379033349609, 4.936229512751657, 4.934561768838208, 4.9329000811479125, 4.931244427688281, 4.929594786546687, 4.927951135890079, 4.926313453964692, 4.924681719095751, 4.923055909687194, 4.921436004221385, 4.919821981258822, 4.918213819437864, 4.916611497474437, 4.9150149941617585, 4.9134242883700585, 4.911839359046296, 4.9102601852138825, 4.908686745972403, 4.90711902049734, 4.905556988039796, 4.904000627926222, 4.902449919558149, 4.900904842411897, 4.899365376038325, 4.897831500062547, 4.896303194183665, 4.894780438174504, 4.89326321188134, 4.891751495223637, 4.890245268193777, 4.888744510856798, 4.88724920335013, 4.885759325883331, 4.884274858737827, 4.882795782266647, 4.88132207689417, 4.8798537231158585, 4.878390701498004, 4.876932992677469, 4.875480577361434, 4.874033436327135, 4.872591550421616, 4.87115490056147, 4.8697234677325945, 4.868297232989929, 4.866876177457211, 4.865460282326731, 4.864049528859066, 4.8626438983828555, 4.861243372294534, 4.859847932058093, 4.858457559204842, 4.857072235333149, 4.85569194210821, 4.854316661261801, 4.852946374592037, 4.851581063963132, 4.850220711305156, 4.848865298613801, 4.847514807950136, 4.846169221440376, 4.844828521275638, 4.843492689711718, 4.842161709068842, 4.8408355617314385, 4.8395142301479055, 4.838197696830381, 4.836885944354503, 4.835578955359188, 4.8342767125463935, 4.832979198680898, 4.831686396590063, 4.830398289163614, 4.829114859353408, 4.827836090173212, 4.826561964698473, 4.825292466066105, 4.82402757747425, 4.82276728218207, 4.821511563509517, 4.820260404837116, 4.819013789605743, 4.817771701316404, 4.816534123530023, 4.8153010398672205, 4.814072434008096, 4.812848289692008, 4.8116285907173735, 4.810413320941437, 4.809202464280062, 4.807996004707527, 4.8067939262563, 4.805596213016834, 4.804402849137359, 4.803213818823665, 4.8020291063389, 4.800848696003357, 4.799672572194268, 4.798500719345596, 4.797333121947835, 4.796169764547795, 4.795010631748405, 4.793855708208506, 4.792704978642648, 4.791558427820891, 4.790416040568598, 4.7892778017662385, 4.788143696349186, 4.7870137093075185, 4.785887825685825, 4.784766030582999, 4.7836483091520465, 4.782534646599891, 4.781425028187173, 4.780319439228059, 4.779217865090043, 4.7781202911937575, 4.777026703012779, 4.775937086073432, 4.774851425954601, 4.773769708287546, 4.772691918755693, 4.771618043094468, 4.7705480670910925, 4.769481976584399, 4.768419757464647, 4.767361395673337, 4.766306877203012, 4.765256188097089, 4.7642093144496656, 4.763166242405338, 4.76212695815901, 4.761091447955726, 4.760059698090478, 4.759031694908019, 4.758007424802699, 4.756986874218269, 4.75597002964771, 4.754956877633052, 4.753947404765199, 4.752941597683744, 4.751939443076799, 4.7509409276808166, 4.749946038280416, 4.748954761708202, 4.747967084844599, 4.746982994617674, 4.746002478002962, 4.745025522023293, 4.7440521137486265, 4.743082240295871, 4.742115888828725, 4.741153046557493, 4.740193700738929, 4.739237838676059, 4.738285447718022, 4.7373365152598925, 4.736391028742519, 4.735448975652359, 4.7345103435213085, 4.733575119926545, 4.732643292490352, 4.731714848879966, 4.7307897768074065, 4.729868064029317, 4.7289496983467965, 4.7280346676052485, 4.727122959694214, 4.7262145625472085, 4.725309464141568, 4.724407652498287, 4.723509115681858, 4.722613841800121, 4.721721819004098, 4.720833035487838, 4.719947479488264, 4.719065139285014, 4.718186003200289, 4.717310059598695, 4.716437296887092, 4.715567703514436, 4.714701267971632, 4.71383797879138, 4.71297782454802, 4.712120793857384, 4.7112668753766425, 4.71041605780416, 4.709568329879339, 4.70872368038247, 4.707882098134598, 4.707043571997349, 4.706208090872805, 4.705375643703349, 4.704546219471514, 4.703719807199848, 4.702896395950756, 4.702075974826364, 4.701258532968375, 4.7004440595579196, 4.699632543815416, 4.698823975000429, 4.698018342411523, 4.697215635386128, 4.6964158433003895, 4.695618955569036, 4.694824961645233, 4.6940338510204445, 4.693245613224299, 4.692460237824443, 4.691677714426409, 4.690898032673476, 4.69012118224653, 4.689347152863934, 4.688575934281381, 4.687807516291773, 4.687041888725073, 4.6862790414481745, 4.6855189643647694, 4.6847616474152165, 4.684007080576401, 4.683255253861607, 4.6825061573203834, 4.681759781038417, 4.681016115137393, 4.680275149774868, 4.6795368751441435, 4.678801281474134, 4.67806835902923, 4.677338098109184, 4.676610489048968, 4.675885522218653, 4.675163188023282, 4.674443476902737, 4.673726379331621, 4.6730118858191245, 4.672299986908902, 4.671590673178952, 4.670883935241484, 4.670179763742798, 4.6694781493631625, 4.668779082816691, 4.668082554851215, 4.667388556248165, 4.666697077822446, 4.666008110422323, 4.665321644929288, 4.6646376722579515, 4.663956183355911, 4.663277169203641, 4.662600620814366, 4.661926529233951, 4.661254885540769, 4.660585680845597, 4.659918906291489, 4.659254553053664, 4.658592612339383, 4.657933075387843, 4.657275933470052, 4.656621177888714, 4.655968799978121, 4.655318791104029, 4.654671142663551, 4.654025846085037, 4.653382892827971, 4.652742274382845, 4.652103982271053, 4.6514680080447794, 4.650834343286886, 4.650202979610798, 4.6495739086604, 4.648947122109917, 4.648322611663808, 4.647700369056661, 4.647080386053073, 4.646462654447551, 4.645847166064397, 4.645233912757604, 4.644622886410744, 4.6440140789368645, 4.64340748227838, 4.642803088406965, 4.642200889323448, 4.641600877057704, 4.641003043668553, 4.640407381243651, 4.639813881899386, 4.639222537780777, 4.638633341061368, 4.638046283943118, 4.637461358656311, 4.636878557459441, 4.636297872639114, 4.6357192965099525, 4.6351428214144805, 4.634568439723033, 4.63399614383365, 4.633425926171978, 4.632857779191168, 4.6322916953717765, 4.631727667221668, 4.631165687275912, 4.630605748096683, 4.630047842273173, 4.629491962421479, 4.628938101184514, 4.628386251231906, 4.627836405259906, 4.627288555991284, 4.6267426961752385, 4.626198818587296, 4.625656916029221, 4.625116981328916, 4.624579007340329, 4.624042986943357, 4.623508913043753, 4.622976778573032, 4.622446576488378, 4.62191829977255, 4.621391941433789, 4.620867494505726, 4.62034495204729, 4.619824307142613, 4.619305552900947, 4.61878868245656, 4.618273688968659, 4.6177605656212855, 4.617249305623238, 4.616739902207974, 4.616232348633524, 4.6157266381824, 4.615222764161507, 4.614720719902058, 4.614220498759483, 4.613722094113337, 4.613225499367221, 4.612730707948686, 4.612237713309153, 4.611746508923823, 4.611257088291589, 4.610769444934957, 4.610283572399949, 4.609799464256026, 4.6093171140960045, 4.608836515535963, 4.608357662215167, 4.6078805477959754, 4.6074051659637645, 4.60693151042684, 4.606459574916358, 4.605989353186237, 4.605520839013076, 4.605054026196076, 4.6045889085569565, 4.604125479939868, 4.603663734211321, 4.603203665260096, 4.602745266997164, 4.602288533355612, 4.601833458290553, 4.601380035779058, 4.600928259820063, 4.600478124434301, 4.6000296236642155, 4.599582751573883, 4.599137502248941, 4.598693869796498, 4.598251848345065, 4.597811432044475, 4.5973726150658045, 4.596935391601296, 4.596499755864285, 4.596065702089116, 4.595633224531077, 4.595202317466312, 4.594772975191754, 4.594345192025043, 4.593918962304457, 4.59349428038883, 4.593071140657487, 4.592649537510158, 4.592229465366911, 4.591810918668081, 4.591393891874188, 4.590978379465869, 4.590564375943805, 4.590151875828645, 4.58974087366094, 4.58933136400106, 4.588923341429135, 4.588516800544971, 4.588111735967988, 4.587708142337144, 4.587306014310864, 4.586905346566971, 4.586506133802614, 4.586108370734202, 4.5857120520973265, 4.585317172646697, 4.584923727156075, 4.584531710418194, 4.584141117244701, 4.583751942466084, 4.583364180931602, 4.582977827509219, 4.582592877085536, 4.582209324565721, 4.581827164873444, 4.581446392950813, 4.581067003758296, 4.580688992274666, 4.5803123534969306, 4.579937082440262, 4.579563174137936, 4.579190623641267, 4.578819426019535, 4.5784495763599296, 4.578081069767476, 4.577713901364983, 4.577348066292961, 4.576983559709573, 4.576620376790562, 4.5762585127291935, 4.575897962736183, 4.575538722039638, 4.575180785885001, 4.574824149534973, 4.574468808269462, 4.574114757385515, 4.573761992197257, 4.57341050803583, 4.57306030024933, 4.572711364202747, 4.572363695277901, 4.572017288873382, 4.571672140404491, 4.571328245303177, 4.570985599017979, 4.570644197013961, 4.570304034772657, 4.569965107792009, 4.569627411586309, 4.569290941686136, 4.5689556936383005, 4.568621663005785, 4.568288845367683, 4.567957236319143, 4.567626831471308, 4.567297626451261, 4.566969616901961, 4.566642798482194, 4.566317166866506, 4.565992717745154, 4.565669446824041, 4.565347349824669, 4.565026422484073, 4.564706660554771, 4.564388059804703, 4.564070616017176, 4.563754324990814, 4.563439182539495, 4.563125184492299, 4.56281232669345, 4.562500605002269, 4.5621900152931065, 4.5618805534553, 4.56157221539311, 4.561264997025675, 4.560958894286949, 4.560653903125653, 4.560350019505219, 4.56004723940374, 4.559745558813908, 4.559444973742974, 4.559145480212685, 4.5588470742592335, 4.558549751933208, 4.558253509299538, 4.557958342437443, 4.557664247440381, 4.557371220415995, 4.557079257486063, 4.5567883547864465, 4.5564985084670395, 4.556209714691716, 4.555921969638285, 4.555635269498427, 4.555349610477657, 4.555064988795273, 4.554781400684294, 4.554498842391425, 4.554217310176997, 4.553936800314923, 4.553657309092644, 4.55337883281109, 4.553101367784613, 4.552824910340958, 4.552549456821201, 4.552275003579706, 4.552001546984076, 4.551729083415105, 4.55145760926673, 4.551187120945979, 4.550917614872933, 4.550649087480671, 4.550381535215221, 4.550114954535525, 4.5498493419133785, 4.549584693833387, 4.549321006792929, 4.549058277302095, 4.548796501883653, 4.548535677072998, 4.5482757994181044, 4.548016865479484, 4.54775887183014, 4.547501815055513, 4.547245691753454, 4.54699049853416, 4.546736232020141, 4.546482888846174, 4.546230465659251, 4.545978959118545, 4.54572836589536, 4.545478682673084, 4.545229906147155, 4.544982033025006, 4.544735060026028, 4.544488983881527, 4.544243801334677, 4.54399950914048, 4.54375610406572, 4.543513582888923, 4.543271942400316, 4.543031179401777, 4.5427912907068, 4.542552273140454, 4.542314123539331, 4.542076838751514, 4.541840415636532, 4.541604851065318, 4.541370141920167, 4.541136285094695, 4.540903277493802, 4.540671116033623, 4.540439797641496, 4.540209319255913, 4.539979677826485, 4.5397508703139025, 4.539522893689889, 4.539295744937169, 4.53906942104942, 4.538843919031237, 4.538619235898096, 4.5383953686763085, 4.538172314402985, 4.537950070125993, 4.537728632903924, 4.53750799980605, 4.537288167912285, 4.537069134313147, 4.536850896109719, 4.5366334504136105, 4.536416794346923, 4.5362009250422055, 4.535985839642421, 4.535771535300908, 4.535558009181342, 4.5353452584576965, 4.53513328031421, 4.5349220719453465, 4.534711630555756, 4.534501953360238, 4.534293037583711, 4.534084880461167, 4.533877479237641, 4.533670831168168, 4.533464933517758, 4.533259783561348, 4.533055378583772, 4.5328517158797235, 4.53264879275372, 4.532446606520067, 4.532245154502826, 4.532044434035771, 4.53184444246236, 4.531645177135699, 4.531446635418506, 4.5312488146830745, 4.531051712311241, 4.530855325694348, 4.530659652233215, 4.530464689338096, 4.530270434428651, 4.530076884933911, 4.529884038292243, 4.529691891951313, 4.529500443368061, 4.529309690008657, 4.529119629348475, 4.528930258872057, 4.528741576073079, 4.528553578454316, 4.528366263527616, 4.528179628813859, 4.5279936718429274, 4.527808390153679, 4.527623781293901, 4.52743984282029, 4.527256572298416, 4.527073967302687, 4.526892025416321, 4.526710744231309, 4.526530121348391, 4.526350154377018, 4.52617084093532, 4.525992178650078, 4.525814165156693, 4.525636798099149, 4.525460075129987, 4.525283993910275, 4.525108552109571, 4.524933747405898, 4.5247595774857094, 4.524586040043862, 4.524413132783582, 4.524240853416436, 4.524069199662302, 4.523898169249335, 4.523727759913945, 4.523557969400757, 4.52338879546259, 4.523220235860421, 4.523052288363357, 4.522884950748611, 4.52271822080146, 4.522552096315232, 4.522386575091262, 4.52222165493887, 4.522057333675336, 4.521893609125861, 4.521730479123545, 4.5215679415093595, 4.521405994132112, 4.521244634848426, 4.521083861522704, 4.5209236720271075, 4.520764064241522, 4.520605036053535, 4.520446585358404, 4.520288710059027, 4.520131408065921, 4.5199746772971885, 4.519818515678494, 4.5196629211430315, 4.519507891631505, 4.519353425092091, 4.519199519480423, 4.519046172759554, 4.518893382899935, 4.518741147879389, 4.518589465683079, 4.518438334303487, 4.518287751740385, 4.518137716000807, 4.517988225099028, 4.517839277056527, 4.517690869901976, 4.517543001671199, 4.517395670407156, 4.517248874159914, 4.517102610986619, 4.516956878951473, 4.51681167612571, 4.516667000587563, 4.51652285042225, 4.516379223721938, 4.516236118585722, 4.516093533119601, 4.515951465436453, 4.515809913656008, 4.515668875904822, 4.515528350316259, 4.5153883350304564, 4.515248828194306, 4.515109827961433, 4.514971332492164, 4.5148333399535066, 4.5146958485191275, 4.51455885636932, 4.514422361690991, 4.5142863626776295, 4.514150857529282, 4.514015844452536, 4.513881321660488, 4.513747287372724, 4.513613739815298, 4.513480677220702, 4.5133480978278495, 4.513215999882047, 4.513084381634976, 4.512953241344663, 4.512822577275463, 4.512692387698032, 4.512562670889309, 4.512433425132486, 4.512304648716992, 4.512176339938468, 4.512048497098741, 4.51192111850581, 4.511794202473812, 4.5116677473230125, 4.511541751379772, 4.51141621297653, 4.5112911304517835, 4.511166502150058, 4.511042326421898, 4.510918601623832, 4.510795326118359, 4.510672498273922, 4.510550116464893, 4.510428179071544, 4.510306684480029, 4.510185631082364, 4.510065017276405, 4.509944841465821, 4.509825102060085, 4.50970579747444, 4.509586926129887, 4.50946848645316, 4.509350476876706, 4.509232895838663, 4.5091157417828445, 4.508999013158712, 4.50888270842136, 4.508766826031489, 4.508651364455394, 4.508536322164937, 4.5084216976375275, 4.508307489356111, 4.508193695809132, 4.508080315490534, 4.507967346899722, 4.507854788541554, 4.507742638926317, 4.507630896569705, 4.507519559992809, 4.507408627722082, 4.5072980982893345, 4.507187970231704, 4.507078242091643, 4.5069689124168955, 4.50685997976048, 4.506751442680671, 4.5066432997409756, 4.506535549510119, 4.506428190562022, 4.506321221475788, 4.506214640835676, 4.506108447231088, 4.5060026392565495, 4.505897215511688, 4.505792174601216, 4.505687515134915, 4.505583235727614, 4.505479334999171, 4.505375811574456, 4.505272664083335, 4.505169891160646, 4.505067491446187, 4.5049654635846945, 4.504863806225827, 4.504762518024145, 4.504661597639096, 4.504561043734998, 4.504460854981014, 4.504361030051144, 4.504261567624202, 4.5041624663838, 4.504063725018329, 4.503965342220944, 4.503867316689546, 4.503769647126766, 4.5036723322399395, 4.503575370741106, 4.503478761346973, 4.503382502778916, 4.503286593762946, 4.503191033029705, 4.503095819314447, 4.503000951357012, 4.502906427901822, 4.502812247697853, 4.5027184094986294, 4.5026249120622, 4.502531754151121, 4.5024389345324485, 4.502346451977709, 4.502254305262892, 4.502162493168436, 4.502071014479203, 4.501979867984469, 4.501889052477909, 4.501798566757578, 4.50170840962589, 4.501618579889619, 4.50152907635986, 4.501439897852033, 4.501351043185859, 4.501262511185343, 4.501174300678759, 4.50108641049864, 4.500998839481758, 4.5009115864691065, 4.500824650305888, 4.500738029841501, 4.500651723929522, 4.500565731427687, 4.5004800511978855, 4.500394682106134, 4.500309623022572, 4.500224872821439, 4.500140430381063, 4.500056294583847, 4.49997246431625, 4.499888938468776, 4.499805715935958, 4.499722795616344, 4.499640176412479, 4.499557857230896, 4.499475836982099, 4.499394114580547, 4.4993126889446415, 4.499231558996711, 4.499150723662998, 4.499070181873646, 4.498989932562681, 4.498909974668, 4.4988303071313585, 4.498750928898355, 4.498671838918413, 4.498593036144778, 4.498514519534491, 4.4984362880483815, 4.4983583406510546, 4.498280676310875, 4.49820329399995, 4.498126192694124, 4.498049371372959, 4.497972829019722, 4.497896564621372, 4.497820577168547, 4.497744865655552, 4.497669429080343, 4.497594266444514, 4.497519376753282, 4.497444759015487, 4.497370412243553, 4.497296335453504, 4.497222527664928, 4.497148987900977, 4.497075715188351, 4.497002708557282, 4.4969299670415275, 4.496857489678349, 4.496785275508507, 4.496713323576244, 4.496641632929275, 4.496570202618771, 4.496499031699351, 4.496428119229065, 4.4963574642693835, 4.496287065885188, 4.49621692314475, 4.496147035119731, 4.496077400885161, 4.4960080195194285, 4.495938890104266, 4.495870011724748, 4.495801383469264, 4.495733004429517, 4.495664873700511, 4.495596990380529, 4.495529353571137, 4.495461962377159, 4.49539481590667, 4.495327913270985, 4.495261253584643, 4.495194835965404, 4.4951286595342275, 4.495062723415267, 4.494997026735854, 4.494931568626494, 4.494866348220843, 4.494801364655709, 4.494736617071035, 4.49467210460988, 4.494607826418424, 4.494543781645938, 4.494479969444792, 4.494416388970428, 4.494353039381355, 4.494289919839142, 4.494227029508397, 4.494164367556768, 4.4941019331549175, 4.494039725476528, 4.493977743698277, 4.493915986999835, 4.4938544545638495, 4.4937931455759355, 4.49373205922467, 4.4936711947015695, 4.493610551201094, 4.493550127920621, 4.493489924060448, 4.493429938823775, 4.493370171416697, 4.493310621048188, 4.4932512869301, 4.493192168277141, 4.493133264306875, 4.493074574239707, 4.493016097298871, 4.492957832710423, 4.49289977970323, 4.492841937508959, 4.492784305362064, 4.492726882499785, 4.492669668162127, 4.492612661591857, 4.492555862034491, 4.4924992687382845, 4.492442880954225, 4.492386697936017, 4.492330718940076, 4.492274943225521, 4.492219370054156, 4.49216399869047, 4.492108828401618, 4.4920538584574246, 4.491999088130358, 4.491944516695532, 4.491890143430689, 4.491835967616201, 4.491781988535049, 4.491728205472816, 4.491674617717683, 4.491621224560413, 4.491568025294349, 4.4915150192153925, 4.49146220562201, 4.491409583815212, 4.491357153098544, 4.491304912778088, 4.491252862162439, 4.491201000562705, 4.491149327292497, 4.491097841667919, 4.491046543007556, 4.490995430632467, 4.490944503866182, 4.4908937620346805, 4.490843204466394, 4.4907928304921905, 4.49074263944537, 4.490692630661651, 4.490642803479168, 4.490593157238455, 4.490543691282442, 4.490494404956448, 4.490445297608163, 4.490396368587653, 4.49034761724734, 4.490299042941998, 4.490250645028746, 4.490202422867034, 4.490154375818641, 4.490106503247664, 4.490058804520506, 4.4900112790058735, 4.489963926074766, 4.489916745100465, 4.489869735458529, 4.489822896526785, 4.489776227685316, 4.489729728316459, 4.489683397804795, 4.489637235537137, 4.489591240902526, 4.489545413292222, 4.489499752099696, 4.489454256720618, 4.489408926552858, 4.489363760996467, 4.48931875945368, 4.489273921328899, 4.4892292460286916, 4.4891847329617764, 4.4891403815390225, 4.489096191173438, 4.489052161280162, 4.489008291276457, 4.488964580581701, 4.488921028617384, 4.4888776348070945, 4.488834398576511, 4.488791319353402, 4.488748396567614, 4.488705629651061, 4.488663018037723, 4.488620561163633, 4.488578258466873, 4.4885361093875655, 4.4884941133678655, 4.488452269851956, 4.488410578286035, 4.488369038118315, 4.488327648799009, 4.488286409780329, 4.4882453205164765, 4.488204380463631, 4.488163589079951, 4.488122945825562, 4.488082450162547, 4.488042101554947, 4.488001899468746, 4.4879618433718695, 4.487921932734171, 4.487882167027433, 4.487842545725357, 4.487803068303552, 4.487763734239533, 4.487724543012714, 4.4876854941043955, 4.4876465869977675, 4.487607821177889, 4.487569196131696, 4.487530711347984, 4.487492366317405, 4.487454160532464, 4.487416093487502, 4.487378164678703, 4.487340373604079, 4.487302719763462, 4.487265202658504, 4.487227821792662, 4.487190576671202, 4.487153466801183, 4.487116491691454, 4.487079650852649, 4.487042943797178, 4.4870063700392215, 4.486969929094724, 4.48693362048139, 4.486897443718675, 4.486861398327776, 4.486825483831631, 4.4867896997549135, 4.486754045624017, 4.4867185209670595, 4.48668312531387, 4.486647858195987, 4.486612719146647, 4.4865777077007865, 4.486542823395028, 4.486508065767674, 4.486473434358707, 4.48643892870978, 4.48640454836421, 4.486370292866971, 4.486336161764691, 4.486302154605643, 4.486268270939743, 4.486234510318537, 4.486200872295205, 4.486167356424546, 4.486133962262973, 4.486100689368517, 4.48606753730081, 4.486034505621082, 4.486001593892158, 4.48596880167845, 4.485936128545952, 4.485903574062236, 4.4858711377964395, 4.48583881931927, 4.485806618202989, 4.485774534021417, 4.4857425663499155, 4.485710714765394, 4.485678978846292, 4.485647358172588, 4.48561585232578, 4.4855844608888855, 4.48555318344644, 4.485522019584485, 4.485490968890564, 4.485460030953722, 4.485429205364493, 4.485398491714903, 4.485367889598452, 4.4853373986101195, 4.485307018346361, 4.485276748405087, 4.485246588385679, 4.485216537888964, 4.485186596517226, 4.485156763874189, 4.485127039565015, 4.485097423196304, 4.485067914376083, 4.485038512713801, 4.485009217820324, 4.484980029307936, 4.484950946790326, 4.484921969882584, 4.484893098201202, 4.484864331364061, 4.4848356689904305, 4.484807110700965, 4.484778656117692, 4.484750304864018, 4.484722056564709, 4.484693910845899, 4.484665867335081, 4.484637925661096, 4.484610085454137, 4.484582346345736, 4.4845547079687655, 4.484527169957431, 4.484499731947267, 4.484472393575128, 4.484445154479192, 4.4844180142989485, 4.484390972675196, 4.484364029250037, 4.4843371836668755, 4.48431043557041, 4.4842837846066255, 4.4842572304227994, 4.484230772667485, 4.484204410990512, 4.484178145042984, 4.484151974477269, 4.484125898947, 4.4840999181070655, 4.48407403161361, 4.484048239124023, 4.484022540296942, 4.483996934792241, 4.48397142227103, 4.48394600239565, 4.483920674829671, 4.483895439237877, 4.483870295286278, 4.483845242642092, 4.483820280973744, 4.48379540995087, 4.483770629244298, 4.483745938526057, 4.483721337469361, 4.483696825748617, 4.483672403039412, 4.483648069018509, 4.483623823363847, 4.483599665754534, 4.483575595870844, 4.4835516133942095, 4.483527718007224, 4.4835039093936295, 4.48348018723832, 4.483456551227331, 4.483433001047838, 4.483409536388155, 4.483386156937727, 4.483362862387126, 4.483339652428047, 4.483316526753305, 4.483293485056833, 4.483270527033671, 4.483247652379972, 4.483224860792985, 4.483202151971066, 4.483179525613663, 4.483156981421314, 4.483134519095647]\n"
     ]
    }
   ],
   "source": [
    "print(theta, thetahistory, jvec)"
   ]
  },
  {
   "cell_type": "code",
   "execution_count": null,
   "metadata": {},
   "outputs": [],
   "source": []
  },
  {
   "cell_type": "code",
   "execution_count": null,
   "metadata": {},
   "outputs": [],
   "source": []
  },
  {
   "cell_type": "code",
   "execution_count": 135,
   "metadata": {},
   "outputs": [
    {
     "name": "stdout",
     "output_type": "stream",
     "text": [
      "0\n",
      "1\n"
     ]
    }
   ],
   "source": [
    "for j in range(len(np.zeros((X1.shape[1],1)))):\n",
    "    print(j)"
   ]
  },
  {
   "cell_type": "code",
   "execution_count": 152,
   "metadata": {},
   "outputs": [
    {
     "data": {
      "text/plain": [
       "array([1., 1., 1., 1., 1., 1., 1., 1., 1., 1., 1., 1., 1., 1., 1., 1., 1.,\n",
       "       1., 1., 1., 1., 1., 1., 1., 1., 1., 1., 1., 1., 1., 1., 1., 1., 1.,\n",
       "       1., 1., 1., 1., 1., 1., 1., 1., 1., 1., 1., 1., 1., 1., 1., 1., 1.,\n",
       "       1., 1., 1., 1., 1., 1., 1., 1., 1., 1., 1., 1., 1., 1., 1., 1., 1.,\n",
       "       1., 1., 1., 1., 1., 1., 1., 1., 1., 1., 1., 1., 1., 1., 1., 1., 1.,\n",
       "       1., 1., 1., 1., 1., 1., 1., 1., 1., 1., 1., 1.])"
      ]
     },
     "execution_count": 152,
     "metadata": {},
     "output_type": "execute_result"
    }
   ],
   "source": [
    "np.array(X1[:,0]).reshape(97,1)"
   ]
  },
  {
   "cell_type": "code",
   "execution_count": 165,
   "metadata": {},
   "outputs": [
    {
     "data": {
      "text/plain": [
       "2"
      ]
     },
     "execution_count": 165,
     "metadata": {},
     "output_type": "execute_result"
    }
   ],
   "source": [
    "X1.shape[1]"
   ]
  },
  {
   "cell_type": "code",
   "execution_count": 157,
   "metadata": {},
   "outputs": [
    {
     "data": {
      "text/plain": [
       "array([[0],\n",
       "       [2]])"
      ]
     },
     "execution_count": 157,
     "metadata": {},
     "output_type": "execute_result"
    }
   ],
   "source": [
    "a=np.array([[0],\n",
    "            [1]])\n",
    "b=np.array([[1],\n",
    "            [2]])\n",
    "a*b"
   ]
  },
  {
   "cell_type": "code",
   "execution_count": null,
   "metadata": {},
   "outputs": [],
   "source": []
  }
 ],
 "metadata": {
  "kernelspec": {
   "display_name": "Python 3",
   "language": "python",
   "name": "python3"
  },
  "language_info": {
   "codemirror_mode": {
    "name": "ipython",
    "version": 3
   },
   "file_extension": ".py",
   "mimetype": "text/x-python",
   "name": "python",
   "nbconvert_exporter": "python",
   "pygments_lexer": "ipython3",
   "version": "3.8.5"
  }
 },
 "nbformat": 4,
 "nbformat_minor": 4
}
